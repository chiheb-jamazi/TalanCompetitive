{
 "cells": [
  {
   "cell_type": "code",
   "execution_count": 5,
   "metadata": {},
   "outputs": [],
   "source": [
    "from hdfs import InsecureClient\n",
    "import pandas as pd\n",
    "import re"
   ]
  },
  {
   "cell_type": "code",
   "execution_count": 6,
   "metadata": {},
   "outputs": [],
   "source": [
    "company='accenture'"
   ]
  },
  {
   "cell_type": "code",
   "execution_count": 7,
   "metadata": {},
   "outputs": [],
   "source": [
    "file_name= company+\"/\"+company.upper()+\"_Social_Reach_df\"\n",
    "hdfs_url = \"http://localhost:9870/\"\n",
    "hdfs_user = \"chiheb\"\n",
    "client = InsecureClient(hdfs_url, user=hdfs_user)\n",
    "with client.read(file_name, encoding = 'utf-8') as reader:\n",
    "  df =  pd.read_csv(reader)"
   ]
  },
  {
   "cell_type": "code",
   "execution_count": 8,
   "metadata": {},
   "outputs": [
    {
     "data": {
      "text/html": [
       "<div>\n",
       "<style scoped>\n",
       "    .dataframe tbody tr th:only-of-type {\n",
       "        vertical-align: middle;\n",
       "    }\n",
       "\n",
       "    .dataframe tbody tr th {\n",
       "        vertical-align: top;\n",
       "    }\n",
       "\n",
       "    .dataframe thead th {\n",
       "        text-align: right;\n",
       "    }\n",
       "</style>\n",
       "<table border=\"1\" class=\"dataframe\">\n",
       "  <thead>\n",
       "    <tr style=\"text-align: right;\">\n",
       "      <th></th>\n",
       "      <th>overview</th>\n",
       "      <th>website</th>\n",
       "      <th>Industry</th>\n",
       "      <th>Company_size</th>\n",
       "      <th>linkedin_Reach</th>\n",
       "      <th>facebook_Reach</th>\n",
       "      <th>Twitter_Reach</th>\n",
       "      <th>Twitter_num_tweets</th>\n",
       "      <th>Instagram_reach</th>\n",
       "      <th>Insta_num_posts</th>\n",
       "    </tr>\n",
       "  </thead>\n",
       "  <tbody>\n",
       "    <tr>\n",
       "      <th>0</th>\n",
       "      <td>Accenture is a global professional services co...</td>\n",
       "      <td>http://www.accenture.com</td>\n",
       "      <td>IT Services and IT Consulting</td>\n",
       "      <td>10,001+ employees</td>\n",
       "      <td>576,847 on LinkedInIncludes members with curre...</td>\n",
       "      <td>815,641 people</td>\n",
       "      <td>541.9K Followers</td>\n",
       "      <td>22.3K Tweets</td>\n",
       "      <td>217k</td>\n",
       "      <td>1,294</td>\n",
       "    </tr>\n",
       "  </tbody>\n",
       "</table>\n",
       "</div>"
      ],
      "text/plain": [
       "                                            overview  \\\n",
       "0  Accenture is a global professional services co...   \n",
       "\n",
       "                    website                       Industry       Company_size  \\\n",
       "0  http://www.accenture.com  IT Services and IT Consulting  10,001+ employees   \n",
       "\n",
       "                                      linkedin_Reach  facebook_Reach  \\\n",
       "0  576,847 on LinkedInIncludes members with curre...  815,641 people   \n",
       "\n",
       "      Twitter_Reach Twitter_num_tweets Instagram_reach Insta_num_posts  \n",
       "0  541.9K Followers       22.3K Tweets            217k           1,294  "
      ]
     },
     "execution_count": 8,
     "metadata": {},
     "output_type": "execute_result"
    }
   ],
   "source": [
    "df"
   ]
  },
  {
   "cell_type": "code",
   "execution_count": 9,
   "metadata": {},
   "outputs": [
    {
     "data": {
      "text/html": [
       "<div>\n",
       "<style scoped>\n",
       "    .dataframe tbody tr th:only-of-type {\n",
       "        vertical-align: middle;\n",
       "    }\n",
       "\n",
       "    .dataframe tbody tr th {\n",
       "        vertical-align: top;\n",
       "    }\n",
       "\n",
       "    .dataframe thead th {\n",
       "        text-align: right;\n",
       "    }\n",
       "</style>\n",
       "<table border=\"1\" class=\"dataframe\">\n",
       "  <thead>\n",
       "    <tr style=\"text-align: right;\">\n",
       "      <th></th>\n",
       "      <th>overview</th>\n",
       "      <th>website</th>\n",
       "      <th>Industry</th>\n",
       "      <th>Company_size</th>\n",
       "      <th>linkedin_Reach</th>\n",
       "      <th>facebook_Reach</th>\n",
       "      <th>Twitter_Reach</th>\n",
       "      <th>Twitter_num_tweets</th>\n",
       "      <th>Instagram_reach</th>\n",
       "      <th>Insta_num_posts</th>\n",
       "    </tr>\n",
       "  </thead>\n",
       "  <tbody>\n",
       "    <tr>\n",
       "      <th>0</th>\n",
       "      <td>Accenture is a global professional services co...</td>\n",
       "      <td>http://www.accenture.com</td>\n",
       "      <td>IT Services and IT Consulting</td>\n",
       "      <td>10,001+ employees</td>\n",
       "      <td>576.847 on LinedInIncludes members with curren...</td>\n",
       "      <td>815.641</td>\n",
       "      <td>541.9</td>\n",
       "      <td>22.3</td>\n",
       "      <td>217</td>\n",
       "      <td>1,294</td>\n",
       "    </tr>\n",
       "  </tbody>\n",
       "</table>\n",
       "</div>"
      ],
      "text/plain": [
       "                                            overview  \\\n",
       "0  Accenture is a global professional services co...   \n",
       "\n",
       "                    website                       Industry       Company_size  \\\n",
       "0  http://www.accenture.com  IT Services and IT Consulting  10,001+ employees   \n",
       "\n",
       "                                      linkedin_Reach facebook_Reach  \\\n",
       "0  576.847 on LinedInIncludes members with curren...        815.641   \n",
       "\n",
       "  Twitter_Reach Twitter_num_tweets Instagram_reach Insta_num_posts  \n",
       "0         541.9               22.3             217           1,294  "
      ]
     },
     "execution_count": 9,
     "metadata": {},
     "output_type": "execute_result"
    }
   ],
   "source": [
    "def cleantext(text):\n",
    "    text = re.sub(r' people', '', text)\n",
    "    text=re.sub(r'K Followers','',text)\n",
    "    text=re.sub(r'K Tweets','',text)\n",
    "    text=re.sub(r'k','',text)\n",
    "    text=text.replace(\",\",\".\")\n",
    "\n",
    "    return text\n",
    "df['facebook_Reach']= df['facebook_Reach'].apply(cleantext)\n",
    "df['Twitter_Reach']= df['Twitter_Reach'].apply(cleantext)\n",
    "df['Twitter_num_tweets']= df['Twitter_num_tweets'].apply(cleantext)\n",
    "df['Instagram_reach']= df['Instagram_reach'].apply(cleantext)\n",
    "df['linkedin_Reach']= df['linkedin_Reach'].apply(cleantext)\n",
    "\n",
    "df"
   ]
  },
  {
   "cell_type": "code",
   "execution_count": 10,
   "metadata": {},
   "outputs": [],
   "source": [
    "def cleantext2(text):\n",
    "    text=re.sub(\"[^.,0-9]\", '', text)\n",
    "    text=text.replace(\",\",\".\")\n",
    "    \n",
    "\n",
    "    return text\n",
    "df['Company_size']= df['Company_size'].apply(cleantext2)\n",
    "df['Insta_num_posts']= df['Insta_num_posts'].apply(cleantext2)\n"
   ]
  },
  {
   "cell_type": "code",
   "execution_count": null,
   "metadata": {},
   "outputs": [],
   "source": []
  },
  {
   "cell_type": "code",
   "execution_count": 11,
   "metadata": {},
   "outputs": [],
   "source": [
    "df['linkedin_Reach']= df['linkedin_Reach'].str.slice(0,8)"
   ]
  },
  {
   "cell_type": "code",
   "execution_count": 12,
   "metadata": {},
   "outputs": [
    {
     "data": {
      "text/html": [
       "<div>\n",
       "<style scoped>\n",
       "    .dataframe tbody tr th:only-of-type {\n",
       "        vertical-align: middle;\n",
       "    }\n",
       "\n",
       "    .dataframe tbody tr th {\n",
       "        vertical-align: top;\n",
       "    }\n",
       "\n",
       "    .dataframe thead th {\n",
       "        text-align: right;\n",
       "    }\n",
       "</style>\n",
       "<table border=\"1\" class=\"dataframe\">\n",
       "  <thead>\n",
       "    <tr style=\"text-align: right;\">\n",
       "      <th></th>\n",
       "      <th>overview</th>\n",
       "      <th>website</th>\n",
       "      <th>Industry</th>\n",
       "      <th>Company_size</th>\n",
       "      <th>linkedin_Reach</th>\n",
       "      <th>facebook_Reach</th>\n",
       "      <th>Twitter_Reach</th>\n",
       "      <th>Twitter_num_tweets</th>\n",
       "      <th>Instagram_reach</th>\n",
       "      <th>Insta_num_posts</th>\n",
       "    </tr>\n",
       "  </thead>\n",
       "  <tbody>\n",
       "    <tr>\n",
       "      <th>0</th>\n",
       "      <td>Accenture is a global professional services co...</td>\n",
       "      <td>http://www.accenture.com</td>\n",
       "      <td>IT Services and IT Consulting</td>\n",
       "      <td>10.001</td>\n",
       "      <td>576.847</td>\n",
       "      <td>815.641</td>\n",
       "      <td>541.9</td>\n",
       "      <td>22.3</td>\n",
       "      <td>217</td>\n",
       "      <td>1.294</td>\n",
       "    </tr>\n",
       "  </tbody>\n",
       "</table>\n",
       "</div>"
      ],
      "text/plain": [
       "                                            overview  \\\n",
       "0  Accenture is a global professional services co...   \n",
       "\n",
       "                    website                       Industry Company_size  \\\n",
       "0  http://www.accenture.com  IT Services and IT Consulting       10.001   \n",
       "\n",
       "  linkedin_Reach facebook_Reach Twitter_Reach Twitter_num_tweets  \\\n",
       "0       576.847         815.641         541.9               22.3   \n",
       "\n",
       "  Instagram_reach Insta_num_posts  \n",
       "0             217           1.294  "
      ]
     },
     "execution_count": 12,
     "metadata": {},
     "output_type": "execute_result"
    }
   ],
   "source": [
    "df"
   ]
  },
  {
   "cell_type": "code",
   "execution_count": 13,
   "metadata": {},
   "outputs": [],
   "source": [
    "df = df.astype({'Company_size':'float','linkedin_Reach':'float','facebook_Reach':'float','Twitter_Reach':'float'\n",
    "               ,'Twitter_num_tweets':'float','Instagram_reach':'float','Insta_num_posts':'float'})\n"
   ]
  },
  {
   "cell_type": "code",
   "execution_count": 14,
   "metadata": {},
   "outputs": [],
   "source": [
    "result = df.dtypes"
   ]
  },
  {
   "cell_type": "code",
   "execution_count": 15,
   "metadata": {},
   "outputs": [
    {
     "name": "stdout",
     "output_type": "stream",
     "text": [
      "overview               object\n",
      "website                object\n",
      "Industry               object\n",
      "Company_size          float64\n",
      "linkedin_Reach        float64\n",
      "facebook_Reach        float64\n",
      "Twitter_Reach         float64\n",
      "Twitter_num_tweets    float64\n",
      "Instagram_reach       float64\n",
      "Insta_num_posts       float64\n",
      "dtype: object\n"
     ]
    }
   ],
   "source": [
    "print(result)"
   ]
  },
  {
   "cell_type": "code",
   "execution_count": 16,
   "metadata": {},
   "outputs": [],
   "source": [
    "data =df.to_dict('records')"
   ]
  },
  {
   "cell_type": "code",
   "execution_count": 18,
   "metadata": {},
   "outputs": [
    {
     "name": "stdout",
     "output_type": "stream",
     "text": [
      "[ObjectId('627b930d6696898c05758009')]\n"
     ]
    }
   ],
   "source": [
    "import pymongo\n",
    "myclient = pymongo.MongoClient(\"mongodb://localhost:27017/\")\n",
    "mydb = myclient[\"Competitive\"]\n",
    "mycol = mydb[\"social_reach\"]\n",
    "x = mycol.insert_many(data)\n",
    "print(x.inserted_ids)"
   ]
  },
  {
   "cell_type": "code",
   "execution_count": 21,
   "metadata": {
    "scrolled": true
   },
   "outputs": [],
   "source": [
    "# import pymongo\n",
    "\n",
    "# myclient = pymongo.MongoClient(\"mongodb://localhost:27017/\")\n",
    "# dblist = myclient.list_database_names()\n",
    "# if \"Competitive\" in dblist:\n",
    "#     exist_db =True\n",
    "#     print(\"The database exists.\")\n",
    "# else:\n",
    "#     mydb = myclient[\"Competitive\"]\n",
    "\n",
    "# collist = mydb.list_collection_names()\n",
    "# if \"customers\" in collist:\n",
    "#     exist_col =True\n",
    "#     print(\"The collection exists.\")\n",
    "# else:\n",
    "#     mycol = mydb[\"Accenture_Social_Reach\"]\n",
    "\n"
   ]
  },
  {
   "cell_type": "code",
   "execution_count": 19,
   "metadata": {},
   "outputs": [],
   "source": [
    "# if exist_db == True:\n",
    "#     print('already exist')\n",
    "# else :\n",
    "#     x = mycol.insert_many(data)"
   ]
  },
  {
   "cell_type": "code",
   "execution_count": 20,
   "metadata": {},
   "outputs": [],
   "source": [
    "# import pymongo\n",
    "# import pandas as pd\n",
    "# from pymongo import MongoClient\n",
    "# client = MongoClient()\n",
    "# client = MongoClient(\"mongodb://localhost:27017\")\n",
    "# db=client[\"pfe\"]\n",
    "# data=df.to_dict(orient =\"records\")\n",
    "# db.spyfu.insert_many(data)"
   ]
  },
  {
   "cell_type": "code",
   "execution_count": null,
   "metadata": {},
   "outputs": [],
   "source": []
  }
 ],
 "metadata": {
  "kernelspec": {
   "display_name": "Python 3 (ipykernel)",
   "language": "python",
   "name": "python3"
  },
  "language_info": {
   "codemirror_mode": {
    "name": "ipython",
    "version": 3
   },
   "file_extension": ".py",
   "mimetype": "text/x-python",
   "name": "python",
   "nbconvert_exporter": "python",
   "pygments_lexer": "ipython3",
   "version": "3.7.13"
  }
 },
 "nbformat": 4,
 "nbformat_minor": 4
}
