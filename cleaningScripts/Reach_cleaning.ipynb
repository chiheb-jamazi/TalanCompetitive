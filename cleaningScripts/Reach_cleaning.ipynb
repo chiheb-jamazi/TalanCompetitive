{
 "cells": [
  {
   "cell_type": "code",
   "execution_count": 73,
   "metadata": {},
   "outputs": [],
   "source": [
    "from hdfs import InsecureClient\n",
    "import pandas as pd\n",
    "import re\n",
    "import pymongo\n",
    "\n",
    "def reach_clean(comp):\n",
    "    company= comp\n",
    "    file_name= company+\"/\"+company+\"_social_reach_df\"\n",
    "    hdfs_url = \"http://localhost:9870/\"\n",
    "    hdfs_user = \"chiheb\"\n",
    "    client = InsecureClient(hdfs_url, user=hdfs_user)\n",
    "    with client.read(file_name, encoding = 'utf-8') as reader:\n",
    "      df =  pd.read_csv(reader)\n",
    "    \n",
    "    df = df.assign(company=[company])\n",
    "    \n",
    "    def cleantext(text):\n",
    "        text = re.sub(r' people', '', text)\n",
    "        text=re.sub(r'K Followers','',text)\n",
    "        text=re.sub(r'K Tweets','',text)\n",
    "        text=re.sub(r'k','',text)\n",
    "        text=text.replace(\",\",\".\")\n",
    "\n",
    "        return text\n",
    "    df['facebook_Reach']= df['facebook_Reach'].apply(cleantext)\n",
    "    df['Twitter_Reach']= df['Twitter_Reach'].apply(cleantext)\n",
    "    df['Twitter_num_tweets']= df['Twitter_num_tweets'].apply(cleantext)\n",
    "    df['linkedin_Reach']= df['linkedin_Reach'].apply(cleantext)\n",
    "    df['Instagram_reach']= df['Instagram_reach'].apply(cleantext)\n",
    "\n",
    "    def cleantext2(text):\n",
    "        text=re.sub(\"[^.,0-9]\", '', text)\n",
    "        text=text.replace(\",\",\".\")\n",
    "\n",
    "\n",
    "        return text\n",
    "    df['Company_size']= df['Company_size'].apply(cleantext2)\n",
    "    df['Insta_num_posts']= df['Insta_num_posts'].apply(cleantext2)\n",
    "    df['linkedin_Reach']= df['linkedin_Reach'].str.slice(0,8)\n",
    "    df = df.astype({'Company_size':'float','linkedin_Reach':'float','facebook_Reach':'float','Twitter_Reach':'float'\n",
    "                   ,'Twitter_num_tweets':'float','Insta_num_posts':'float'})\n",
    "    data =df.to_dict('records')\n",
    "    \n",
    "    myclient = pymongo.MongoClient(\"mongodb://localhost:27017/\")\n",
    "    mydb = myclient[\"Competitive\"]\n",
    "    mycol = mydb[\"social_reach\"]\n",
    "    x = mycol.insert_many(data)\n",
    "    print(x.inserted_ids)"
   ]
  }
 ],
 "metadata": {
  "kernelspec": {
   "display_name": "Python 3 (ipykernel)",
   "language": "python",
   "name": "python3"
  },
  "language_info": {
   "codemirror_mode": {
    "name": "ipython",
    "version": 3
   },
   "file_extension": ".py",
   "mimetype": "text/x-python",
   "name": "python",
   "nbconvert_exporter": "python",
   "pygments_lexer": "ipython3",
   "version": "3.7.13"
  }
 },
 "nbformat": 4,
 "nbformat_minor": 4
}
