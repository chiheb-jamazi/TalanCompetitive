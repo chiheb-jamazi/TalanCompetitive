{
 "cells": [
  {
   "cell_type": "code",
   "execution_count": 1,
   "metadata": {},
   "outputs": [],
   "source": [
    "from hdfs import InsecureClient\n",
    "import pandas as pd\n",
    "import re"
   ]
  },
  {
   "cell_type": "code",
   "execution_count": 2,
   "metadata": {},
   "outputs": [],
   "source": [
    "company='accenture'"
   ]
  },
  {
   "cell_type": "code",
   "execution_count": 3,
   "metadata": {},
   "outputs": [],
   "source": [
    "file_name= company+\"/\"+company.upper()+\"_Semrush_df\"\n",
    "hdfs_url = \"http://localhost:9870/\"\n",
    "hdfs_user = \"chiheb\"\n",
    "client = InsecureClient(hdfs_url, user=hdfs_user)\n",
    "with client.read(file_name, encoding = 'utf-8') as reader:\n",
    "  df =  pd.read_csv(reader)"
   ]
  },
  {
   "cell_type": "code",
   "execution_count": 4,
   "metadata": {},
   "outputs": [],
   "source": [
    "file_name= company+\"/\"+company.upper()+\"_Spyfu_df\"\n",
    "hdfs_url = \"http://localhost:9870/\"\n",
    "hdfs_user = \"chiheb\"\n",
    "client = InsecureClient(hdfs_url, user=hdfs_user)\n",
    "with client.read(file_name, encoding = 'utf-8') as reader:\n",
    "  df1 =  pd.read_csv(reader)"
   ]
  },
  {
   "cell_type": "code",
   "execution_count": 5,
   "metadata": {
    "scrolled": true
   },
   "outputs": [
    {
     "data": {
      "text/html": [
       "<div>\n",
       "<style scoped>\n",
       "    .dataframe tbody tr th:only-of-type {\n",
       "        vertical-align: middle;\n",
       "    }\n",
       "\n",
       "    .dataframe tbody tr th {\n",
       "        vertical-align: top;\n",
       "    }\n",
       "\n",
       "    .dataframe thead th {\n",
       "        text-align: right;\n",
       "    }\n",
       "</style>\n",
       "<table border=\"1\" class=\"dataframe\">\n",
       "  <thead>\n",
       "    <tr style=\"text-align: right;\">\n",
       "      <th></th>\n",
       "      <th>wesbtites</th>\n",
       "      <th>organic_search_traffic</th>\n",
       "      <th>countries</th>\n",
       "      <th>backlinks</th>\n",
       "      <th>organic_keywords</th>\n",
       "      <th>organic_competitors</th>\n",
       "    </tr>\n",
       "  </thead>\n",
       "  <tbody>\n",
       "    <tr>\n",
       "      <th>0</th>\n",
       "      <td>accenture.com</td>\n",
       "      <td>2.9M</td>\n",
       "      <td>['IN', 'US', 'JP', 'PH']</td>\n",
       "      <td>['http://singlepc.ru/', 'https://apwg.org/', '...</td>\n",
       "      <td>['accenture', 'artificial intelligence', 'arti...</td>\n",
       "      <td>['northropgrumman.com', 'kyndryl.com', 'pwc.co...</td>\n",
       "    </tr>\n",
       "  </tbody>\n",
       "</table>\n",
       "</div>"
      ],
      "text/plain": [
       "       wesbtites organic_search_traffic                 countries  \\\n",
       "0  accenture.com                   2.9M  ['IN', 'US', 'JP', 'PH']   \n",
       "\n",
       "                                           backlinks  \\\n",
       "0  ['http://singlepc.ru/', 'https://apwg.org/', '...   \n",
       "\n",
       "                                    organic_keywords  \\\n",
       "0  ['accenture', 'artificial intelligence', 'arti...   \n",
       "\n",
       "                                 organic_competitors  \n",
       "0  ['northropgrumman.com', 'kyndryl.com', 'pwc.co...  "
      ]
     },
     "execution_count": 5,
     "metadata": {},
     "output_type": "execute_result"
    }
   ],
   "source": [
    "df"
   ]
  },
  {
   "cell_type": "code",
   "execution_count": 6,
   "metadata": {
    "scrolled": false
   },
   "outputs": [
    {
     "data": {
      "text/html": [
       "<div>\n",
       "<style scoped>\n",
       "    .dataframe tbody tr th:only-of-type {\n",
       "        vertical-align: middle;\n",
       "    }\n",
       "\n",
       "    .dataframe tbody tr th {\n",
       "        vertical-align: top;\n",
       "    }\n",
       "\n",
       "    .dataframe thead th {\n",
       "        text-align: right;\n",
       "    }\n",
       "</style>\n",
       "<table border=\"1\" class=\"dataframe\">\n",
       "  <thead>\n",
       "    <tr style=\"text-align: right;\">\n",
       "      <th></th>\n",
       "      <th>websites</th>\n",
       "      <th>backlinkss</th>\n",
       "      <th>organic_keywordss</th>\n",
       "      <th>paid_keywordss</th>\n",
       "      <th>organic_competitorsss</th>\n",
       "      <th>paid_competitorsss</th>\n",
       "      <th>organic_keywrods_nbs</th>\n",
       "      <th>Est_Monthly_SEO_Clicks</th>\n",
       "      <th>Est_Monthly_SEO_Click_changes</th>\n",
       "      <th>Est_Monthly_PPC_Clicks</th>\n",
       "      <th>Est_Monthly_Google_Ad_Budgets</th>\n",
       "    </tr>\n",
       "  </thead>\n",
       "  <tbody>\n",
       "    <tr>\n",
       "      <th>0</th>\n",
       "      <td>accenture.com</td>\n",
       "      <td>['https://p3.placement.freshersworld.com/power...</td>\n",
       "      <td>['jobs near me', 'accenture', 'outlook', 'jobs...</td>\n",
       "      <td>['cloud', 'accenture', 'artificial intelligenc...</td>\n",
       "      <td>['deloitte.com', 'bcg.com', 'mckinsey.com', 'p...</td>\n",
       "      <td>['cognizant.com', 'pwc.com', 'medallia.com', '...</td>\n",
       "      <td>715,834</td>\n",
       "      <td>394,254</td>\n",
       "      <td>-8,446</td>\n",
       "      <td>27,144</td>\n",
       "      <td>$115,134</td>\n",
       "    </tr>\n",
       "  </tbody>\n",
       "</table>\n",
       "</div>"
      ],
      "text/plain": [
       "        websites                                         backlinkss  \\\n",
       "0  accenture.com  ['https://p3.placement.freshersworld.com/power...   \n",
       "\n",
       "                                   organic_keywordss  \\\n",
       "0  ['jobs near me', 'accenture', 'outlook', 'jobs...   \n",
       "\n",
       "                                      paid_keywordss  \\\n",
       "0  ['cloud', 'accenture', 'artificial intelligenc...   \n",
       "\n",
       "                               organic_competitorsss  \\\n",
       "0  ['deloitte.com', 'bcg.com', 'mckinsey.com', 'p...   \n",
       "\n",
       "                                  paid_competitorsss organic_keywrods_nbs  \\\n",
       "0  ['cognizant.com', 'pwc.com', 'medallia.com', '...              715,834   \n",
       "\n",
       "  Est_Monthly_SEO_Clicks Est_Monthly_SEO_Click_changes Est_Monthly_PPC_Clicks  \\\n",
       "0                394,254                        -8,446                 27,144   \n",
       "\n",
       "  Est_Monthly_Google_Ad_Budgets  \n",
       "0                      $115,134  "
      ]
     },
     "execution_count": 6,
     "metadata": {},
     "output_type": "execute_result"
    }
   ],
   "source": [
    "df1"
   ]
  },
  {
   "cell_type": "code",
   "execution_count": 7,
   "metadata": {},
   "outputs": [],
   "source": [
    "def cleantext(text):\n",
    "    text=re.sub(\"[^.,0-9,-]\", '', text)\n",
    "    text=text.replace(\",\",\".\")\n",
    "    \n",
    "\n",
    "    return text\n",
    "df1['Est_Monthly_Google_Ad_Budgets']= df1['Est_Monthly_Google_Ad_Budgets'].apply(cleantext)\n",
    "df1['Est_Monthly_PPC_Clicks']= df1['Est_Monthly_PPC_Clicks'].apply(cleantext)\n",
    "df1['Est_Monthly_SEO_Click_changes']= df1['Est_Monthly_SEO_Click_changes'].apply(cleantext)\n",
    "df1['Est_Monthly_SEO_Clicks']= df1['Est_Monthly_SEO_Clicks'].apply(cleantext)\n",
    "df1['organic_keywrods_nbs']= df1['organic_keywrods_nbs'].apply(cleantext)\n",
    "df['organic_search_traffic']= df['organic_search_traffic'].apply(cleantext)"
   ]
  },
  {
   "cell_type": "code",
   "execution_count": 8,
   "metadata": {
    "scrolled": true
   },
   "outputs": [
    {
     "data": {
      "text/html": [
       "<div>\n",
       "<style scoped>\n",
       "    .dataframe tbody tr th:only-of-type {\n",
       "        vertical-align: middle;\n",
       "    }\n",
       "\n",
       "    .dataframe tbody tr th {\n",
       "        vertical-align: top;\n",
       "    }\n",
       "\n",
       "    .dataframe thead th {\n",
       "        text-align: right;\n",
       "    }\n",
       "</style>\n",
       "<table border=\"1\" class=\"dataframe\">\n",
       "  <thead>\n",
       "    <tr style=\"text-align: right;\">\n",
       "      <th></th>\n",
       "      <th>websites</th>\n",
       "      <th>backlinkss</th>\n",
       "      <th>organic_keywordss</th>\n",
       "      <th>paid_keywordss</th>\n",
       "      <th>organic_competitorsss</th>\n",
       "      <th>paid_competitorsss</th>\n",
       "      <th>organic_keywrods_nbs</th>\n",
       "      <th>Est_Monthly_SEO_Clicks</th>\n",
       "      <th>Est_Monthly_SEO_Click_changes</th>\n",
       "      <th>Est_Monthly_PPC_Clicks</th>\n",
       "      <th>Est_Monthly_Google_Ad_Budgets</th>\n",
       "    </tr>\n",
       "  </thead>\n",
       "  <tbody>\n",
       "    <tr>\n",
       "      <th>0</th>\n",
       "      <td>accenture.com</td>\n",
       "      <td>['https://p3.placement.freshersworld.com/power...</td>\n",
       "      <td>['jobs near me', 'accenture', 'outlook', 'jobs...</td>\n",
       "      <td>['cloud', 'accenture', 'artificial intelligenc...</td>\n",
       "      <td>['deloitte.com', 'bcg.com', 'mckinsey.com', 'p...</td>\n",
       "      <td>['cognizant.com', 'pwc.com', 'medallia.com', '...</td>\n",
       "      <td>715.834</td>\n",
       "      <td>394.254</td>\n",
       "      <td>-8.446</td>\n",
       "      <td>27.144</td>\n",
       "      <td>115.134</td>\n",
       "    </tr>\n",
       "  </tbody>\n",
       "</table>\n",
       "</div>"
      ],
      "text/plain": [
       "        websites                                         backlinkss  \\\n",
       "0  accenture.com  ['https://p3.placement.freshersworld.com/power...   \n",
       "\n",
       "                                   organic_keywordss  \\\n",
       "0  ['jobs near me', 'accenture', 'outlook', 'jobs...   \n",
       "\n",
       "                                      paid_keywordss  \\\n",
       "0  ['cloud', 'accenture', 'artificial intelligenc...   \n",
       "\n",
       "                               organic_competitorsss  \\\n",
       "0  ['deloitte.com', 'bcg.com', 'mckinsey.com', 'p...   \n",
       "\n",
       "                                  paid_competitorsss organic_keywrods_nbs  \\\n",
       "0  ['cognizant.com', 'pwc.com', 'medallia.com', '...              715.834   \n",
       "\n",
       "  Est_Monthly_SEO_Clicks Est_Monthly_SEO_Click_changes Est_Monthly_PPC_Clicks  \\\n",
       "0                394.254                        -8.446                 27.144   \n",
       "\n",
       "  Est_Monthly_Google_Ad_Budgets  \n",
       "0                       115.134  "
      ]
     },
     "execution_count": 8,
     "metadata": {},
     "output_type": "execute_result"
    }
   ],
   "source": [
    "df1"
   ]
  },
  {
   "cell_type": "code",
   "execution_count": 9,
   "metadata": {},
   "outputs": [],
   "source": [
    "# df1.rename(columns = {'backlinkss':'backlinks', 'organic_keywordss':'organic_keywords',\n",
    "#                      'paid_keywordss':'paid_keywords', 'organic_competitorsss':'organic_competitors',\n",
    "#                       'paid_competitorsss':'paid_competitors'}, inplace = True)"
   ]
  },
  {
   "cell_type": "code",
   "execution_count": 10,
   "metadata": {},
   "outputs": [],
   "source": [
    "df1 = df1.astype({'organic_keywrods_nbs':'float','Est_Monthly_SEO_Clicks':'float','Est_Monthly_SEO_Click_changes':'float','Est_Monthly_PPC_Clicks':'float'\n",
    "               ,'Est_Monthly_Google_Ad_Budgets':'float'})"
   ]
  },
  {
   "cell_type": "code",
   "execution_count": 11,
   "metadata": {},
   "outputs": [],
   "source": [
    "df = df.astype({'organic_search_traffic':'float'})"
   ]
  },
  {
   "cell_type": "code",
   "execution_count": 12,
   "metadata": {},
   "outputs": [],
   "source": [
    "top_Backlinks=[]\n",
    "Backlinks=df1.backlinkss[0]+','+df.backlinks[0]\n",
    "s=Backlinks.split(',')\n",
    "for i in s :\n",
    "    top_Backlinks.append(i)\n",
    "new_list =[s.replace('[', '') for s in top_Backlinks]\n",
    "new_list2=[s.replace(']', '') for s in new_list]\n",
    "Top_Backlinks=[s.replace(\"'\", \"\") for s in new_list2]\n",
    "Top_Backlinks=list( dict.fromkeys(Top_Backlinks))\n",
    "\n",
    "                #organic keywords\n",
    "\n",
    "Organics=[]\n",
    "Organic= df1.organic_keywordss[0]+df.organic_keywords[0]\n",
    "s=Organic.split(',')\n",
    "for i in s :\n",
    "    Organics.append(i)\n",
    "new_list147 =[s.replace('[', '') for s in Organics]\n",
    "new_list2147=[s.replace(']', '') for s in new_list147]\n",
    "Organic_Keywords=[s.replace(\"'\", \"\") for s in new_list2147]\n",
    "Organic_Keywords=list( dict.fromkeys(Organic_Keywords))\n",
    "\n",
    "                #organic competitors\n",
    "\n",
    "Organics=[]\n",
    "Organic= df1.organic_competitorsss[0]+df.organic_competitors[0]\n",
    "s=Organic.split(',')\n",
    "for i in s :\n",
    "    Organics.append(i)\n",
    "new_list =[s.replace('[', '') for s in Organics]\n",
    "new_list2=[s.replace(']', '') for s in new_list]\n",
    "Organic_competitors=[s.replace(\"'\", \"\") for s in new_list2]\n",
    "Organic_competitors=list( dict.fromkeys(Organic_competitors) )\n",
    "            \n",
    "            #Countries\n",
    "\n",
    "Countries=[]\n",
    "s=df.countries[0].split(',')\n",
    "for i in s :\n",
    "    Countries.append(i)\n",
    "new =[s.replace('[', '') for s in Countries]\n",
    "new2=[s.replace(']', '') for s in new]\n",
    "Countries=[s.replace(\"'\", \"\") for s in new2]\n",
    "\n",
    "            #Paid_competitors\n",
    "    \n",
    "Paid_competitors=[]\n",
    "s=df1.paid_competitorsss[0].split(',')\n",
    "for i in s :\n",
    "    Paid_competitors.append(i)\n",
    "new_list1 =[s.replace('[', '') for s in Paid_competitors]\n",
    "new_list12=[s.replace(']', '') for s in new_list1]\n",
    "Paid_competitors=[s.replace(\"'\", \"\") for s in new_list12]\n",
    "\n",
    "            #Paid_keywordss\n",
    "\n",
    "\n",
    "Paid_keywordss=[]\n",
    "s=df1.paid_keywordss[0].split(',')\n",
    "for i in s :\n",
    "    Paid_keywordss.append(i)\n",
    "new_list1 =[s.replace('[', '') for s in Paid_keywordss]\n",
    "new_list12=[s.replace(']', '') for s in new_list1]\n",
    "Paid_keywordss=[s.replace(\"'\", \"\") for s in new_list12]\n",
    "\n"
   ]
  },
  {
   "cell_type": "code",
   "execution_count": 13,
   "metadata": {},
   "outputs": [
    {
     "data": {
      "text/plain": [
       "str"
      ]
     },
     "execution_count": 13,
     "metadata": {},
     "output_type": "execute_result"
    }
   ],
   "source": [
    "type(df1.backlinkss[0]+',')"
   ]
  },
  {
   "cell_type": "code",
   "execution_count": 14,
   "metadata": {},
   "outputs": [],
   "source": [
    "informations = ({'websites':df1.websites[0],'organic_search_traffic':df.organic_search_traffic[0],'backlinks': Top_Backlinks, 'organic_keywords': Organic_Keywords,  'paid_keywords': Paid_keywordss, 'organic_competitors': Organic_competitors, 'paid_competitorsss':Paid_competitors,\n",
    "                 'organic_keywrods_nbs':df1.organic_keywrods_nbs[0] , 'Est_Monthly_SEO_Clicks':df1.Est_Monthly_SEO_Clicks[0],'Est_Monthly_SEO_Click_changes':df1.Est_Monthly_SEO_Click_changes[0] , \n",
    "                 'Est_Monthly_PPC_Clicks':df1.Est_Monthly_PPC_Clicks[0] , 'Est_Monthly_Google_Ad_Budgets':df1.Est_Monthly_Google_Ad_Budgets[0], 'countries': Countries }) "
   ]
  },
  {
   "cell_type": "code",
   "execution_count": 15,
   "metadata": {
    "scrolled": false
   },
   "outputs": [
    {
     "data": {
      "text/html": [
       "<div>\n",
       "<style scoped>\n",
       "    .dataframe tbody tr th:only-of-type {\n",
       "        vertical-align: middle;\n",
       "    }\n",
       "\n",
       "    .dataframe tbody tr th {\n",
       "        vertical-align: top;\n",
       "    }\n",
       "\n",
       "    .dataframe thead th {\n",
       "        text-align: right;\n",
       "    }\n",
       "</style>\n",
       "<table border=\"1\" class=\"dataframe\">\n",
       "  <thead>\n",
       "    <tr style=\"text-align: right;\">\n",
       "      <th></th>\n",
       "      <th>websites</th>\n",
       "      <th>organic_search_traffic</th>\n",
       "      <th>backlinks</th>\n",
       "      <th>organic_keywords</th>\n",
       "      <th>paid_keywords</th>\n",
       "      <th>organic_competitors</th>\n",
       "      <th>paid_competitorsss</th>\n",
       "      <th>organic_keywrods_nbs</th>\n",
       "      <th>Est_Monthly_SEO_Clicks</th>\n",
       "      <th>Est_Monthly_SEO_Click_changes</th>\n",
       "      <th>Est_Monthly_PPC_Clicks</th>\n",
       "      <th>Est_Monthly_Google_Ad_Budgets</th>\n",
       "      <th>countries</th>\n",
       "    </tr>\n",
       "  </thead>\n",
       "  <tbody>\n",
       "    <tr>\n",
       "      <th>0</th>\n",
       "      <td>accenture.com</td>\n",
       "      <td>2.9</td>\n",
       "      <td>[https://p3.placement.freshersworld.com/power-...</td>\n",
       "      <td>[jobs near me,  accenture,  outlook,  jobs hir...</td>\n",
       "      <td>[cloud,  accenture,  artificial intelligence, ...</td>\n",
       "      <td>[deloitte.com,  bcg.com,  mckinsey.com,  pwc.c...</td>\n",
       "      <td>[cognizant.com,  pwc.com,  medallia.com,  work...</td>\n",
       "      <td>715.834</td>\n",
       "      <td>394.254</td>\n",
       "      <td>-8.446</td>\n",
       "      <td>27.144</td>\n",
       "      <td>115.134</td>\n",
       "      <td>[IN,  US,  JP,  PH]</td>\n",
       "    </tr>\n",
       "  </tbody>\n",
       "</table>\n",
       "</div>"
      ],
      "text/plain": [
       "        websites  organic_search_traffic  \\\n",
       "0  accenture.com                     2.9   \n",
       "\n",
       "                                           backlinks  \\\n",
       "0  [https://p3.placement.freshersworld.com/power-...   \n",
       "\n",
       "                                    organic_keywords  \\\n",
       "0  [jobs near me,  accenture,  outlook,  jobs hir...   \n",
       "\n",
       "                                       paid_keywords  \\\n",
       "0  [cloud,  accenture,  artificial intelligence, ...   \n",
       "\n",
       "                                 organic_competitors  \\\n",
       "0  [deloitte.com,  bcg.com,  mckinsey.com,  pwc.c...   \n",
       "\n",
       "                                  paid_competitorsss  organic_keywrods_nbs  \\\n",
       "0  [cognizant.com,  pwc.com,  medallia.com,  work...               715.834   \n",
       "\n",
       "   Est_Monthly_SEO_Clicks  Est_Monthly_SEO_Click_changes  \\\n",
       "0                 394.254                         -8.446   \n",
       "\n",
       "   Est_Monthly_PPC_Clicks  Est_Monthly_Google_Ad_Budgets            countries  \n",
       "0                  27.144                        115.134  [IN,  US,  JP,  PH]  "
      ]
     },
     "execution_count": 15,
     "metadata": {},
     "output_type": "execute_result"
    }
   ],
   "source": [
    "df3=pd.DataFrame([informations])\n",
    "df3"
   ]
  },
  {
   "cell_type": "code",
   "execution_count": 16,
   "metadata": {},
   "outputs": [],
   "source": [
    "data = df3.to_dict('records')"
   ]
  },
  {
   "cell_type": "code",
   "execution_count": 17,
   "metadata": {},
   "outputs": [
    {
     "name": "stdout",
     "output_type": "stream",
     "text": [
      "[ObjectId('627bc31ab94f4e36640ae805')]\n"
     ]
    }
   ],
   "source": [
    "import pymongo\n",
    "myclient = pymongo.MongoClient(\"mongodb://localhost:27017/\")\n",
    "mydb = myclient[\"Competitive\"]\n",
    "mycol = mydb[\"web_metrics\"]\n",
    "x = mycol.insert_many(data)\n",
    "print(x.inserted_ids)"
   ]
  },
  {
   "cell_type": "code",
   "execution_count": null,
   "metadata": {},
   "outputs": [],
   "source": []
  },
  {
   "cell_type": "code",
   "execution_count": null,
   "metadata": {},
   "outputs": [],
   "source": []
  }
 ],
 "metadata": {
  "kernelspec": {
   "display_name": "Python 3 (ipykernel)",
   "language": "python",
   "name": "python3"
  },
  "language_info": {
   "codemirror_mode": {
    "name": "ipython",
    "version": 3
   },
   "file_extension": ".py",
   "mimetype": "text/x-python",
   "name": "python",
   "nbconvert_exporter": "python",
   "pygments_lexer": "ipython3",
   "version": "3.7.13"
  }
 },
 "nbformat": 4,
 "nbformat_minor": 5
}
