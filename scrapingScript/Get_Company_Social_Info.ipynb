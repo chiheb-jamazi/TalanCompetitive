{
 "cells": [
  {
   "cell_type": "code",
   "execution_count": 1,
   "metadata": {},
   "outputs": [],
   "source": [
    "from selenium.webdriver.chrome.service import Service\n",
    "from webdriver_manager.chrome import ChromeDriverManager\n",
    "from selenium.webdriver.common.by import By\n",
    "from selenium import webdriver\n",
    "from bs4 import BeautifulSoup\n",
    "import pandas as pd \n",
    "from time import sleep\n",
    "import time \n",
    "from hdfs import InsecureClient"
   ]
  },
  {
   "cell_type": "code",
   "execution_count": 2,
   "metadata": {},
   "outputs": [],
   "source": [
    "def connect_to_linkedin ():\n",
    "    driver.get(\"https://www.linkedin.com/checkpoint/lg/sign-in-another-account\")\n",
    "    time.sleep(5)\n",
    "#     username = driver.find_element_by_id(\"username\")\n",
    "    username = driver.find_element(By.ID,\"username\")\n",
    "    username.send_keys(\"chiheb.jamazi@esprit.tn\")\n",
    "#     pword = driver.find_element_by_id(\"password\")\n",
    "    pword = driver.find_element(By.ID,\"password\")\n",
    "    pword.send_keys(\"Seawaymn2011&&\")\n",
    "#     driver.find_element_by_xpath(\"//button[@type='submit']\").click()\n",
    "    driver.find_element(By.XPATH, \"//button[@type='submit']\").click()"
   ]
  },
  {
   "cell_type": "code",
   "execution_count": 3,
   "metadata": {},
   "outputs": [],
   "source": [
    "def connect_to_facebook():\n",
    "    #open the webpage\n",
    "    driver.get(\"http://www.facebook.com\")\n",
    "\n",
    "    #target username\n",
    "    username = WebDriverWait(driver, 10).until(EC.element_to_be_clickable((By.CSS_SELECTOR, \"input[name='email']\")))\n",
    "    password = WebDriverWait(driver, 10).until(EC.element_to_be_clickable((By.CSS_SELECTOR, \"input[name='pass']\")))\n",
    "\n",
    "    #enter username and password\n",
    "    username.clear()\n",
    "    username.send_keys(\"chihebjamazi@gmail.com\")\n",
    "    password.clear()\n",
    "    password.send_keys(\"Seawaymn2011&&\")\n",
    "\n",
    "    #target the login button and click it\n",
    "    button = WebDriverWait(driver, 2).until(EC.element_to_be_clickable((By.CSS_SELECTOR, \"button[type='submit']\"))).click()\n",
    "    "
   ]
  },
  {
   "cell_type": "code",
   "execution_count": 4,
   "metadata": {},
   "outputs": [],
   "source": [
    "def connect_to_twitter():\n",
    "    driver=webdriver.Chrome(r'C:\\\\Users\\\\jchih\\\\\\Documents\\\\selenium\\\\chromedriver.exe')\n",
    "    sleep(3)\n",
    "    #Login\n",
    "    driver.get('https://twitter.com/login')\n",
    "    sleep(5)\n",
    "    username = driver.find_element_by_xpath('//*[@id=\"layers\"]/div/div/div/div/div/div/div[2]/div[2]/div/div/div[2]/div[2]/div[1]/div/div/div[5]/label').send_keys('jamazichiheb')\n",
    "    driver.find_element_by_xpath('//*[@id=\"layers\"]/div/div/div/div/div/div/div[2]/div[2]/div/div/div[2]/div[2]/div[1]/div/div/div[6]').click()\n",
    "    sleep(3)\n",
    "    password = driver.find_element_by_xpath('//*[@id=\"layers\"]/div/div/div/div/div/div/div[2]/div[2]/div/div/div[2]/div[2]/div[1]/div/div/div[3]/div/label/div/div[2]/div[1]/input').send_keys('Seawaymn2011&&')\n",
    "    sleep(3)\n",
    "    driver.find_element_by_xpath('//*[@id=\"layers\"]/div/div/div/div/div/div/div[2]/div[2]/div/div/div[2]/div[2]/div[2]/div/div[1]').click()\n",
    "    sleep(4)\n"
   ]
  },
  {
   "cell_type": "code",
   "execution_count": 5,
   "metadata": {},
   "outputs": [],
   "source": [
    "def connect_to_instagram():\n",
    "    #target username\n",
    "    username = WebDriverWait(driver, 10).until(EC.element_to_be_clickable((By.CSS_SELECTOR, \"input[name='username']\")))\n",
    "    password = WebDriverWait(driver, 10).until(EC.element_to_be_clickable((By.CSS_SELECTOR, \"input[name='password']\")))\n",
    "\n",
    "    #enter username and password\n",
    "    username.clear()\n",
    "    username.send_keys(\"chiheb_jamazi\")\n",
    "    password.clear()\n",
    "    password.send_keys(\"Seawaymn2011&&\")\n",
    "\n",
    "    #target the login button and click it\n",
    "    button = WebDriverWait(driver, 2).until(EC.element_to_be_clickable((By.CSS_SELECTOR, \"button[type='submit']\"))).click()\n",
    "\n",
    "    #We are logged in!\n",
    "    not_now = WebDriverWait(driver, 10).until(EC.element_to_be_clickable((By.XPATH, '//button[contains(text(), \"Not Now\")]'))).click()\n",
    "    not_now2 = WebDriverWait(driver, 10).until(EC.element_to_be_clickable((By.XPATH, '//button[contains(text(), \"Not Now\")]'))).click()"
   ]
  },
  {
   "cell_type": "code",
   "execution_count": 33,
   "metadata": {},
   "outputs": [
    {
     "name": "stdout",
     "output_type": "stream",
     "text": [
      "Enter your value: talan\n"
     ]
    },
    {
     "name": "stderr",
     "output_type": "stream",
     "text": [
      "\n",
      "\n",
      "====== WebDriver manager ======\n",
      "Current google-chrome version is 100.0.4896\n",
      "Get LATEST chromedriver version for 100.0.4896 google-chrome\n",
      "Driver [/home/chiheb/.wdm/drivers/chromedriver/linux64/100.0.4896.60/chromedriver] found in cache\n"
     ]
    }
   ],
   "source": [
    "company = input(\"Enter your value: \")\n",
    "page = \"https://www.linkedin.com/company/\"+company+\"/about\"\n",
    "# driver=webdriver.Chrome(r'C:\\\\Users\\\\jchih\\\\\\Documents\\\\selenium\\\\chromedriver.exe')\n",
    "driver = webdriver.Chrome(service=Service(ChromeDriverManager().install()))\n",
    "connect_to_linkedin ()\n"
   ]
  },
  {
   "cell_type": "code",
   "execution_count": 47,
   "metadata": {},
   "outputs": [],
   "source": [
    "driver.get(\"https://www.linkedin.com/company/accenture/about/\")"
   ]
  },
  {
   "cell_type": "code",
   "execution_count": 70,
   "metadata": {},
   "outputs": [],
   "source": [
    "src =driver.page_source\n",
    "soupe =BeautifulSoup(src, 'lxml')\n",
    "overview =[]\n",
    "website =[]\n",
    "Industry =[]\n",
    "Company_size =[]\n",
    "linkedin_Reach =[]\n",
    "# def get_linkedin_details(soupe):\n",
    "container =soupe.find('section', {'class':'artdeco-card p5 mb4'}) \n",
    "try:\n",
    "    overviews= container.find('p', {'class':'break-words white-space-pre-wrap mb5 text-body-small t-black--light'})\n",
    "    overview.append(overviews.get_text())\n",
    "except:\n",
    "    pass\n",
    "try:\n",
    "    websites = container.find('dd', {'class':'mb4 text-body-small t-black--light'})\n",
    "    website.append(websites.get_text(strip=True))\n",
    "except:\n",
    "    pass\n",
    "try:\n",
    "    Industrys = container.find_all('dd', {'class':'mb4 text-body-small t-black--light'})\n",
    "    Industry.append(Industrys[1].get_text(strip=True))\n",
    "except:\n",
    "    pass\n",
    "try:\n",
    "    Company_sizes= container.find('dd', {'class':'text-body-small t-black--light mb1'})\n",
    "    Company_size.append(Company_sizes.get_text(strip=True))\n",
    "except:\n",
    "    pass\n",
    "try:\n",
    "    linkedin_Reachs= container.find('dd', {'class':'text-body-small t-black--light mb4'})\n",
    "    linkedin_Reach.append(linkedin_Reachs.get_text(strip=True))\n",
    "except:\n",
    "    pass"
   ]
  },
  {
   "cell_type": "code",
   "execution_count": 76,
   "metadata": {},
   "outputs": [
    {
     "name": "stderr",
     "output_type": "stream",
     "text": [
      "\n",
      "\n",
      "====== WebDriver manager ======\n",
      "Current google-chrome version is 100.0.4896\n",
      "Get LATEST chromedriver version for 100.0.4896 google-chrome\n",
      "Driver [/home/chiheb/.wdm/drivers/chromedriver/linux64/100.0.4896.60/chromedriver] found in cache\n"
     ]
    }
   ],
   "source": [
    "driver = webdriver.Chrome(service=Service(ChromeDriverManager().install()))\n",
    "connect_to_linkedin ()"
   ]
  },
  {
   "cell_type": "code",
   "execution_count": 156,
   "metadata": {},
   "outputs": [],
   "source": [
    "driver.get(\"https://www.facebook.com/accenture/about/?ref=page_internal\")"
   ]
  },
  {
   "cell_type": "code",
   "execution_count": 166,
   "metadata": {
    "scrolled": true
   },
   "outputs": [
    {
     "data": {
      "text/plain": [
       "<div class=\"je60u5p8\"><div class=\"hv4rvrfc dhix69tm\"><span class=\"d2edcug0 hpfvmrgz qv66sw1b c1et5uql b0tq1wua a8c37x1j fe6kdd0r mau55g9w c8b282yb keod5gw0 nxhoafnm aigsh9s9 tia6h79c iv3no6db a5q79mjw g1cxx5fr lrazzd5p m9osqain\" dir=\"auto\">General</span><div class=\"osnr6wyh s1tcr66n\" role=\"separator\" style=\"margin: 0px;\"></div></div><div class=\"taijpn5t cbu4d94t j83agx80\"><div class=\"dwo3fsh8 g5ia77u1 rt8b4zig n8ej3o3l agehan2d sk4xxmp2 rq0escxv q9uorilb kvgmc6g5 cxmmr5t8 oygrvhab hcukyx3x jb3vyjys rz4wbd8a qt6c0cv9 a8nywdso l9j0dhe7 i1ao9s8h k4urcfbm\"><div class=\"j83agx80 cbu4d94t sj5x9vvc cxgpxx05\"><div class=\"rq0escxv l9j0dhe7 du4w35lb j83agx80 pfnyh3mw jifvfom9 ll8tlv6m owycx6da btwxx1t3 hv4rvrfc dati1w0a jb3vyjys b5q2rw42 lq239pai mysgfdmx hddg9phg\"><div class=\"rq0escxv l9j0dhe7 du4w35lb j83agx80 cbu4d94t pfnyh3mw d2edcug0 hpfvmrgz p8fzw8mz pcp91wgn iuny7tx3 ipjc6fyt\"><i class=\"hu5pjgll cwsop09l\" data-visualcompletion=\"css-img\" style='background-image: url(\"https://static.xx.fbcdn.net/rsrc.php/v3/yB/r/DNplFHR7Qj8.png\"); background-position: 0px -231px; background-size: auto; width: 20px; height: 20px; background-repeat: no-repeat; display: inline-block;'></i></div><div class=\"rq0escxv l9j0dhe7 du4w35lb j83agx80 cbu4d94t d2edcug0 hpfvmrgz rj1gh0hx buofh1pr g5gj957u o8rfisnq p8fzw8mz pcp91wgn iuny7tx3 ipjc6fyt\"><div class=\"j83agx80 cbu4d94t ew0dbk1b irj2b8pg\"><div class=\"qzhwtbm6 knvmm38d\"><span class=\"d2edcug0 hpfvmrgz qv66sw1b c1et5uql b0tq1wua a8c37x1j fe6kdd0r mau55g9w c8b282yb keod5gw0 nxhoafnm aigsh9s9 d9wwppkn hrzyx87i jq4qci2q a3bd9o3v b1v8xokw oo9gr5id hzawbc8m\" dir=\"auto\"><span class=\"d2edcug0 hpfvmrgz qv66sw1b c1et5uql b0tq1wua jq4qci2q a3bd9o3v b1v8xokw oo9gr5id\">815,641 people</span> <span class=\"d2edcug0 hpfvmrgz qv66sw1b c1et5uql b0tq1wua jq4qci2q a3bd9o3v b1v8xokw oo9gr5id\">like this</span></span></div></div></div></div></div></div></div><div class=\"taijpn5t cbu4d94t j83agx80\"><div class=\"dwo3fsh8 g5ia77u1 rt8b4zig n8ej3o3l agehan2d sk4xxmp2 rq0escxv q9uorilb kvgmc6g5 cxmmr5t8 oygrvhab hcukyx3x jb3vyjys rz4wbd8a qt6c0cv9 a8nywdso l9j0dhe7 i1ao9s8h k4urcfbm\"><div class=\"j83agx80 cbu4d94t sj5x9vvc cxgpxx05\"><div class=\"rq0escxv l9j0dhe7 du4w35lb j83agx80 pfnyh3mw jifvfom9 ll8tlv6m owycx6da btwxx1t3 hv4rvrfc dati1w0a jb3vyjys b5q2rw42 lq239pai mysgfdmx hddg9phg\"><div class=\"rq0escxv l9j0dhe7 du4w35lb j83agx80 cbu4d94t pfnyh3mw d2edcug0 hpfvmrgz p8fzw8mz pcp91wgn iuny7tx3 ipjc6fyt\"><i class=\"hu5pjgll cwsop09l\" data-visualcompletion=\"css-img\" style='background-image: url(\"https://static.xx.fbcdn.net/rsrc.php/v3/yV/r/XxP37OD9Ttr.png\"); background-position: 0px -427px; background-size: auto; width: 20px; height: 20px; background-repeat: no-repeat; display: inline-block;'></i></div><div class=\"rq0escxv l9j0dhe7 du4w35lb j83agx80 cbu4d94t d2edcug0 hpfvmrgz rj1gh0hx buofh1pr g5gj957u o8rfisnq p8fzw8mz pcp91wgn iuny7tx3 ipjc6fyt\"><div class=\"j83agx80 cbu4d94t ew0dbk1b irj2b8pg\"><div class=\"qzhwtbm6 knvmm38d\"><span class=\"d2edcug0 hpfvmrgz qv66sw1b c1et5uql b0tq1wua a8c37x1j fe6kdd0r mau55g9w c8b282yb keod5gw0 nxhoafnm aigsh9s9 d9wwppkn hrzyx87i jq4qci2q a3bd9o3v b1v8xokw oo9gr5id hzawbc8m\" dir=\"auto\"><span class=\"d2edcug0 hpfvmrgz qv66sw1b c1et5uql b0tq1wua jq4qci2q a3bd9o3v b1v8xokw oo9gr5id\">873,121 people follow this</span></span></div></div></div></div></div></div></div><div class=\"dwo3fsh8 g5ia77u1 rt8b4zig n8ej3o3l agehan2d sk4xxmp2 rq0escxv q9uorilb kvgmc6g5 cxmmr5t8 oygrvhab hcukyx3x jb3vyjys rz4wbd8a qt6c0cv9 a8nywdso l9j0dhe7 i1ao9s8h k4urcfbm\"><div class=\"j83agx80 cbu4d94t sj5x9vvc cxgpxx05\"><div class=\"rq0escxv l9j0dhe7 du4w35lb j83agx80 pfnyh3mw jifvfom9 ll8tlv6m owycx6da btwxx1t3 hv4rvrfc dati1w0a jb3vyjys b5q2rw42 lq239pai mysgfdmx hddg9phg\"><div class=\"rq0escxv l9j0dhe7 du4w35lb j83agx80 cbu4d94t pfnyh3mw d2edcug0 hpfvmrgz p8fzw8mz pcp91wgn iuny7tx3 ipjc6fyt\"><i class=\"hu5pjgll cwsop09l\" data-visualcompletion=\"css-img\" style='background-image: url(\"https://static.xx.fbcdn.net/rsrc.php/v3/yo/r/tJ2kZvHCsz5.png\"); background-position: 0px -462px; background-size: auto; width: 20px; height: 20px; background-repeat: no-repeat; display: inline-block;'></i></div><div class=\"rq0escxv l9j0dhe7 du4w35lb j83agx80 cbu4d94t d2edcug0 hpfvmrgz rj1gh0hx buofh1pr g5gj957u o8rfisnq p8fzw8mz pcp91wgn iuny7tx3 ipjc6fyt\"><div class=\"j83agx80 cbu4d94t ew0dbk1b irj2b8pg\"><div class=\"qzhwtbm6 knvmm38d\"><span class=\"d2edcug0 hpfvmrgz qv66sw1b c1et5uql b0tq1wua a8c37x1j fe6kdd0r mau55g9w c8b282yb keod5gw0 nxhoafnm aigsh9s9 d9wwppkn hrzyx87i jq4qci2q a3bd9o3v b1v8xokw oo9gr5id hzawbc8m\" dir=\"auto\"><span class=\"d2edcug0 hpfvmrgz qv66sw1b c1et5uql b0tq1wua jq4qci2q a3bd9o3v b1v8xokw oo9gr5id\"><span class=\"d2edcug0 hpfvmrgz qv66sw1b c1et5uql b0tq1wua jq4qci2q a3bd9o3v b1v8xokw oo9gr5id\">491 people</span> checked in here</span></span></div></div></div></div></div></div><div class=\"j83agx80\"><div><div class=\"dwo3fsh8 g5ia77u1 rt8b4zig n8ej3o3l agehan2d sk4xxmp2 rq0escxv q9uorilb kvgmc6g5 cxmmr5t8 oygrvhab hcukyx3x jb3vyjys rz4wbd8a qt6c0cv9 a8nywdso l9j0dhe7 i1ao9s8h k4urcfbm\"><div class=\"j83agx80 cbu4d94t sj5x9vvc cxgpxx05\"><div class=\"rq0escxv l9j0dhe7 du4w35lb j83agx80 pfnyh3mw jifvfom9 ll8tlv6m owycx6da btwxx1t3 hv4rvrfc dati1w0a jb3vyjys b5q2rw42 lq239pai mysgfdmx hddg9phg\"><div class=\"rq0escxv l9j0dhe7 du4w35lb j83agx80 cbu4d94t pfnyh3mw d2edcug0 hpfvmrgz p8fzw8mz pcp91wgn iuny7tx3 ipjc6fyt\"><i class=\"hu5pjgll cwsop09l\" data-visualcompletion=\"css-img\" style='background-image: url(\"https://static.xx.fbcdn.net/rsrc.php/v3/yV/r/XxP37OD9Ttr.png\"); background-position: 0px -280px; background-size: auto; width: 20px; height: 20px; background-repeat: no-repeat; display: inline-block;'></i></div><div class=\"rq0escxv l9j0dhe7 du4w35lb j83agx80 cbu4d94t d2edcug0 hpfvmrgz rj1gh0hx buofh1pr g5gj957u o8rfisnq p8fzw8mz pcp91wgn iuny7tx3 ipjc6fyt\"><div class=\"j83agx80 cbu4d94t ew0dbk1b irj2b8pg\"><div class=\"qzhwtbm6 knvmm38d\"><span class=\"d2edcug0 hpfvmrgz qv66sw1b c1et5uql b0tq1wua a8c37x1j fe6kdd0r mau55g9w c8b282yb keod5gw0 nxhoafnm aigsh9s9 d9wwppkn hrzyx87i jq4qci2q a3bd9o3v b1v8xokw oo9gr5id hzawbc8m\" dir=\"auto\"><span><a class=\"oajrlxb2 g5ia77u1 qu0x051f esr5mh6w e9989ue4 r7d6kgcz rq0escxv nhd2j8a9 nc684nl6 p7hjln8o kvgmc6g5 cxmmr5t8 oygrvhab hcukyx3x jb3vyjys rz4wbd8a qt6c0cv9 a8nywdso i1ao9s8h esuyzwwr f1sip0of lzcic4wl gpro0wi8 oo9gr5id lrazzd5p\" href=\"https://www.facebook.com/pages/category/consulting-company/\" role=\"link\" tabindex=\"0\"><span class=\"d2edcug0 hpfvmrgz qv66sw1b c1et5uql b0tq1wua jq4qci2q a3bd9o3v b1v8xokw py34i1dx\">Consulting agency</span></a></span></span></div></div></div></div></div></div></div><div class=\"pybr56ya hv4rvrfc f9o22wc5 j83agx80\"></div></div></div>"
      ]
     },
     "execution_count": 166,
     "metadata": {},
     "output_type": "execute_result"
    }
   ],
   "source": [
    "src =driver.page_source\n",
    "soupe =BeautifulSoup(src, 'lxml')\n",
    "container =soupe.find('div', {'class':'je60u5p8'}) \n",
    "container"
   ]
  },
  {
   "cell_type": "code",
   "execution_count": 167,
   "metadata": {},
   "outputs": [],
   "source": [
    "facebook_Reach= []\n",
    "like = container.find('span',{'class':'d2edcug0 hpfvmrgz qv66sw1b c1et5uql b0tq1wua jq4qci2q a3bd9o3v b1v8xokw oo9gr5id'})\n",
    "facebook_Reach.append(like.get_text())"
   ]
  },
  {
   "cell_type": "code",
   "execution_count": 168,
   "metadata": {},
   "outputs": [
    {
     "data": {
      "text/plain": [
       "['815,641 people']"
      ]
     },
     "execution_count": 168,
     "metadata": {},
     "output_type": "execute_result"
    }
   ],
   "source": [
    "facebook_Reach"
   ]
  },
  {
   "cell_type": "code",
   "execution_count": 125,
   "metadata": {},
   "outputs": [],
   "source": [
    "driver.get(\"https://twitter.com/Accenture?ref_src=twsrc%5Egoogle%7Ctwcamp%5Eserp%7Ctwgr%5Eauthor\")"
   ]
  },
  {
   "cell_type": "code",
   "execution_count": 135,
   "metadata": {},
   "outputs": [],
   "source": [
    "src =driver.page_source\n",
    "soupe =BeautifulSoup(src, 'lxml')\n",
    "container =soupe.find('div', {'class':'css-1dbjc4n'}) "
   ]
  },
  {
   "cell_type": "code",
   "execution_count": 133,
   "metadata": {},
   "outputs": [],
   "source": [
    "Twitter_numb_tweets= []\n",
    "follow = container.find('div',{'class':'css-901oao css-bfa6kz r-14j79pv r-37j5jr r-n6v787 r-16dba41 r-1cwl3u0 r-bcqeeo r-qvutc0'})\n",
    "Twitter_numb_tweets.append(follow.get_text())"
   ]
  },
  {
   "cell_type": "code",
   "execution_count": 134,
   "metadata": {},
   "outputs": [],
   "source": [
    "Twitter_Reach= []\n",
    "follow = container.find_all('a',{'class':'css-4rbku5 css-18t94o4 css-901oao r-18jsvk2 r-1loqt21 r-37j5jr r-a023e6 r-16dba41 r-rjixqe r-bcqeeo r-qvutc0'})\n",
    "Twitter_Reach.append(follow[1].get_text())\n"
   ]
  },
  {
   "cell_type": "code",
   "execution_count": 137,
   "metadata": {},
   "outputs": [],
   "source": [
    "driver.get(\"https://www.instagram.com/accenture/?hl=en\")"
   ]
  },
  {
   "cell_type": "code",
   "execution_count": 152,
   "metadata": {},
   "outputs": [],
   "source": [
    "from selenium.webdriver.common.by import By\n",
    "instagram_reach=[]\n",
    "instagram_reach.append(driver.find_element(By.XPATH, '//*[@id=\"react-root\"]/section/main/div/header/section/ul/li[2]/button/div/span').text)"
   ]
  },
  {
   "cell_type": "code",
   "execution_count": 153,
   "metadata": {},
   "outputs": [
    {
     "data": {
      "text/plain": [
       "['217k']"
      ]
     },
     "execution_count": 153,
     "metadata": {},
     "output_type": "execute_result"
    }
   ],
   "source": [
    "instagram_reach"
   ]
  },
  {
   "cell_type": "code",
   "execution_count": 154,
   "metadata": {},
   "outputs": [
    {
     "data": {
      "text/plain": [
       "['1,294']"
      ]
     },
     "execution_count": 154,
     "metadata": {},
     "output_type": "execute_result"
    }
   ],
   "source": [
    "insta_num_posts=[]\n",
    "insta_numb_posts.append(driver.find_element(By.XPATH, '//*[@id=\"react-root\"]/section/main/div/header/section/ul/li[1]/button/div/span').text)\n",
    "insta_numb_posts"
   ]
  },
  {
   "cell_type": "code",
   "execution_count": 170,
   "metadata": {},
   "outputs": [],
   "source": [
    "Social_Reach = pd.DataFrame(\n",
    "            {'overview': overview,\n",
    "             'website': website,\n",
    "             'Industry': Industry,       \n",
    "             \"Company_size\":Company_size,\n",
    "             \"linkedin_Reach\":linkedin_Reach,\n",
    "             \"facebook_Reach\": facebook_Reach,\n",
    "             \"Twitter_Reach\":Twitter_Reach,\n",
    "             \"Twitter_num_tweets\":Twitter_numb_tweets,\n",
    "             \"Instagram_reach\":instagram_reach,\n",
    "             \"Insta_num_posts\":insta_numb_posts,\n",
    "            })"
   ]
  },
  {
   "cell_type": "code",
   "execution_count": 171,
   "metadata": {},
   "outputs": [
    {
     "data": {
      "text/html": [
       "<div>\n",
       "<style scoped>\n",
       "    .dataframe tbody tr th:only-of-type {\n",
       "        vertical-align: middle;\n",
       "    }\n",
       "\n",
       "    .dataframe tbody tr th {\n",
       "        vertical-align: top;\n",
       "    }\n",
       "\n",
       "    .dataframe thead th {\n",
       "        text-align: right;\n",
       "    }\n",
       "</style>\n",
       "<table border=\"1\" class=\"dataframe\">\n",
       "  <thead>\n",
       "    <tr style=\"text-align: right;\">\n",
       "      <th></th>\n",
       "      <th>overview</th>\n",
       "      <th>website</th>\n",
       "      <th>Industry</th>\n",
       "      <th>Company_size</th>\n",
       "      <th>linkedin_Reach</th>\n",
       "      <th>facebook_Reach</th>\n",
       "      <th>Twitter_Reach</th>\n",
       "      <th>Twitter_num_tweets</th>\n",
       "      <th>Instagram_reach</th>\n",
       "      <th>Insta_num_posts</th>\n",
       "    </tr>\n",
       "  </thead>\n",
       "  <tbody>\n",
       "    <tr>\n",
       "      <th>0</th>\n",
       "      <td>Accenture is a global professional services co...</td>\n",
       "      <td>http://www.accenture.com</td>\n",
       "      <td>IT Services and IT Consulting</td>\n",
       "      <td>10,001+ employees</td>\n",
       "      <td>576,847 on LinkedInIncludes members with curre...</td>\n",
       "      <td>815,641 people</td>\n",
       "      <td>541.9K Followers</td>\n",
       "      <td>22.3K Tweets</td>\n",
       "      <td>217k</td>\n",
       "      <td>1,294</td>\n",
       "    </tr>\n",
       "  </tbody>\n",
       "</table>\n",
       "</div>"
      ],
      "text/plain": [
       "                                            overview  \\\n",
       "0  Accenture is a global professional services co...   \n",
       "\n",
       "                    website                       Industry       Company_size  \\\n",
       "0  http://www.accenture.com  IT Services and IT Consulting  10,001+ employees   \n",
       "\n",
       "                                      linkedin_Reach  facebook_Reach  \\\n",
       "0  576,847 on LinkedInIncludes members with curre...  815,641 people   \n",
       "\n",
       "      Twitter_Reach Twitter_num_tweets Instagram_reach Insta_num_posts  \n",
       "0  541.9K Followers       22.3K Tweets            217k           1,294  "
      ]
     },
     "execution_count": 171,
     "metadata": {},
     "output_type": "execute_result"
    }
   ],
   "source": [
    "Social_Reach"
   ]
  },
  {
   "cell_type": "code",
   "execution_count": 172,
   "metadata": {},
   "outputs": [],
   "source": [
    "from hdfs import InsecureClient\n",
    "company='accenture'\n",
    "file_name= company.upper()+'_Social_Reach_df'\n",
    "hdfs_url = \"http://localhost:9870/\"\n",
    "hdfs_user = \"chiheb\"\n",
    "c = InsecureClient(hdfs_url, user=hdfs_user)\n",
    "with c.write('accenture/'+file_name, encoding = 'utf-8') as writer:\n",
    "    Social_Reach.to_csv(writer,index=False)"
   ]
  },
  {
   "cell_type": "code",
   "execution_count": null,
   "metadata": {},
   "outputs": [],
   "source": []
  }
 ],
 "metadata": {
  "kernelspec": {
   "display_name": "Python 3 (ipykernel)",
   "language": "python",
   "name": "python3"
  },
  "language_info": {
   "codemirror_mode": {
    "name": "ipython",
    "version": 3
   },
   "file_extension": ".py",
   "mimetype": "text/x-python",
   "name": "python",
   "nbconvert_exporter": "python",
   "pygments_lexer": "ipython3",
   "version": "3.7.13"
  }
 },
 "nbformat": 4,
 "nbformat_minor": 4
}
