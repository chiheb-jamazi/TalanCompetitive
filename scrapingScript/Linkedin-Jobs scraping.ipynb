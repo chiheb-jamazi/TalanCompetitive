{
 "cells": [
  {
   "cell_type": "code",
   "execution_count": 2,
   "metadata": {},
   "outputs": [],
   "source": [
    "from selenium import webdriver\n",
    "from bs4 import BeautifulSoup\n",
    "from selenium import webdriver\n",
    "from selenium.webdriver.chrome.service import Service\n",
    "from webdriver_manager.chrome import ChromeDriverManager\n",
    "from selenium.webdriver.common.by import By\n",
    "import pandas as pd \n",
    "from time import sleep\n",
    "import time \n",
    "import csv"
   ]
  },
  {
   "cell_type": "code",
   "execution_count": 6,
   "metadata": {},
   "outputs": [],
   "source": [
    "def connect_to_linkedin ():\n",
    "    driver.get(\"https://www.linkedin.com/checkpoint/lg/sign-in-another-account\")\n",
    "    time.sleep(5)\n",
    "#     username = driver.find_element_by_id(\"username\")\n",
    "    username = driver.find_element(By.ID,\"username\")\n",
    "    username.send_keys(\"chiheb.jamazi@esprit.tn\")\n",
    "#     pword = driver.find_element_by_id(\"password\")\n",
    "    pword = driver.find_element(By.ID,\"password\")\n",
    "    pword.send_keys(\"Seawaymn2011&&\")\n",
    "#     driver.find_element_by_xpath(\"//button[@type='submit']\").click()\n",
    "    driver.find_element(By.XPATH, \"//button[@type='submit']\").click()"
   ]
  },
  {
   "cell_type": "code",
   "execution_count": 7,
   "metadata": {},
   "outputs": [],
   "source": [
    "def scrolling_function ():\n",
    "    SCROLL_PAUSE_TIME = 1.5\n",
    "    # Get scroll height\n",
    "    last_height = driver.execute_script(\"return document.body.scrollHeight\")\n",
    "    while True:\n",
    "        # Scroll down to bottom\n",
    "        driver.execute_script(\"window.scrollTo(0, document.body.scrollHeight);\")\n",
    "        #uncomment to limit the number of scrolls\n",
    "        #scroll_number += 1\n",
    "        # Wait to load page\n",
    "        time.sleep(SCROLL_PAUSE_TIME)\n",
    "        # Calculate new scroll height and compare with last scroll height\n",
    "        new_height = driver.execute_script(\"return document.body.scrollHeight\")\n",
    "        if new_height == last_height:\n",
    "            break\n",
    "        last_height = new_height\n",
    "    return "
   ]
  },
  {
   "cell_type": "code",
   "execution_count": 8,
   "metadata": {},
   "outputs": [],
   "source": [
    "Job_post_date =[] \n",
    "company_name = []\n",
    "job_title = []\n",
    "job_links = []\n",
    "Number_applicants = []\n",
    "location = []\n",
    "working_Place = []\n",
    "def get_linkedin_jobs (soup):\n",
    "    \n",
    "    containers = soup.find_all(class_='jobs-search-results__list-item occludable-update p0 relative ember-view')\n",
    "    for container in containers:\n",
    "        try:              \n",
    "            his=container.find(class_='job-card-container__listed-time job-card-container__footer-item')  \n",
    "            Job_post_date.append(his.get_text(strip =True))\n",
    "        except:\n",
    "            Job_post_date.append('none')\n",
    "        try:\n",
    "            text=container.find(class_='job-card-container__link job-card-container__company-name ember-view')\n",
    "            company_name.append(text.get_text(strip =True))\n",
    "        except:\n",
    "            company_name.append('none')\n",
    "        try:\n",
    "            desc=container.find(class_='disabled ember-view job-card-container__link job-card-list__title')\n",
    "            job_title.append(desc.get_text(strip =True))\n",
    "        except:\n",
    "            job_title.append('none')  \n",
    "        try:       \n",
    "            desc=container.find(class_='disabled ember-view job-card-container__link job-card-list__title')\n",
    "            descs = 'https://www.linkedin.com'+desc['href']\n",
    "            job_links.append(descs)\n",
    "        except:\n",
    "            job_links.append('none')        \n",
    "\n",
    "        try:        \n",
    "            nb_applic=container.find(class_='job-card-container__applicant-count job-card-container__footer-item job-card-container__footer-item--highlighted t-bold inline-flex align-items-center')\n",
    "            Number_applicants.append(nb_applic.get_text(strip= True))\n",
    "        except:\n",
    "            Number_applicants.append('none')\n",
    "\n",
    "        try:        \n",
    "            loca=container.find(class_='job-card-container__metadata-item')\n",
    "            location.append(loca.get_text(strip= True))\n",
    "        except:\n",
    "            location.append('none')\n",
    "        try:        \n",
    "            working=container.find(class_='job-card-container__metadata-item job-card-container__metadata-item--workplace-type')\n",
    "            working_Place.append(working.get_text(strip= True))\n",
    "        except:\n",
    "            working_Place.append('none')"
   ]
  },
  {
   "cell_type": "code",
   "execution_count": 9,
   "metadata": {
    "scrolled": false
   },
   "outputs": [
    {
     "name": "stdout",
     "output_type": "stream",
     "text": [
      "Enter your value: talan\n"
     ]
    },
    {
     "name": "stderr",
     "output_type": "stream",
     "text": [
      "\n",
      "\n",
      "====== WebDriver manager ======\n",
      "Current google-chrome version is 100.0.4896\n",
      "Get LATEST chromedriver version for 100.0.4896 google-chrome\n",
      "Trying to download new driver from https://chromedriver.storage.googleapis.com/100.0.4896.60/chromedriver_linux64.zip\n",
      "Driver has been saved in cache [/home/chiheb/.wdm/drivers/chromedriver/linux64/100.0.4896.60]\n"
     ]
    }
   ],
   "source": [
    "company = input(\"Enter your value: \")\n",
    "page = \"https://www.linkedin.com/jobs/search/?geoId=105015875&keywords=\"+company+\"%20jobs\"\n",
    "driver = webdriver.Chrome(service=Service(ChromeDriverManager().install()))\n",
    "# driver = webdriver.Chrome(\"/usr/local/bin/chromedriver\")\n",
    "driver.set_window_size(900,800)\n",
    "connect_to_linkedin ()\n",
    "for numb in range(10):\n",
    "    sleep(1)\n",
    "    driver.get(page+'&start='+str(numb*25)) \n",
    "    sleep(1)\n",
    "    scrolling_function ()\n",
    "    sleep(2)\n",
    "    src =driver.page_source\n",
    "    soup =BeautifulSoup(src, 'lxml')\n",
    "    get_linkedin_jobs (soup)"
   ]
  },
  {
   "cell_type": "code",
   "execution_count": 10,
   "metadata": {},
   "outputs": [],
   "source": [
    "jobs = pd.DataFrame(\n",
    "        {'Job_post_date': Job_post_date,\n",
    "         'company_name': company_name,\n",
    "         'job_title': job_title, \n",
    "         \"Number_applicants\": Number_applicants,\n",
    "         \"Location\": location,\n",
    "         \"working_Place\": working_Place,\n",
    "         \"job_links\":job_links,\n",
    "\n",
    "        })"
   ]
  },
  {
   "cell_type": "code",
   "execution_count": 39,
   "metadata": {
    "scrolled": true
   },
   "outputs": [],
   "source": [
    "# Jobs_json=jobs.to_dict('records')"
   ]
  },
  {
   "cell_type": "markdown",
   "metadata": {},
   "source": [
    "### write files into hdfs "
   ]
  },
  {
   "cell_type": "code",
   "execution_count": 103,
   "metadata": {
    "scrolled": true
   },
   "outputs": [],
   "source": [
    "from hdfs import InsecureClient\n",
    "file_name= company.upper()+'_Linkedin_Jobs_df'\n",
    "client = InsecureClient('http://localhost:9870/',user='chiheb')\n",
    "with client.write(file_name, encoding = 'utf-8') as writer:\n",
    "    jobs.to_csv(writer,index=False)"
   ]
  },
  {
   "cell_type": "code",
   "execution_count": 1,
   "metadata": {},
   "outputs": [
    {
     "ename": "NameError",
     "evalue": "name 'client' is not defined",
     "output_type": "error",
     "traceback": [
      "\u001b[0;31m---------------------------------------------------------------------------\u001b[0m",
      "\u001b[0;31mNameError\u001b[0m                                 Traceback (most recent call last)",
      "\u001b[0;32m<ipython-input-1-c8f88e8ba2c5>\u001b[0m in \u001b[0;36m<module>\u001b[0;34m\u001b[0m\n\u001b[0;32m----> 1\u001b[0;31m \u001b[0;32mwith\u001b[0m \u001b[0mclient\u001b[0m\u001b[0;34m.\u001b[0m\u001b[0mread\u001b[0m\u001b[0;34m(\u001b[0m\u001b[0mfile_name\u001b[0m\u001b[0;34m,\u001b[0m \u001b[0mencoding\u001b[0m \u001b[0;34m=\u001b[0m \u001b[0;34m'utf-8'\u001b[0m\u001b[0;34m)\u001b[0m \u001b[0;32mas\u001b[0m \u001b[0mreader\u001b[0m\u001b[0;34m:\u001b[0m\u001b[0;34m\u001b[0m\u001b[0;34m\u001b[0m\u001b[0m\n\u001b[0m\u001b[1;32m      2\u001b[0m   \u001b[0mdf\u001b[0m \u001b[0;34m=\u001b[0m  \u001b[0mpd\u001b[0m\u001b[0;34m.\u001b[0m\u001b[0mread_csv\u001b[0m\u001b[0;34m(\u001b[0m\u001b[0mreader\u001b[0m\u001b[0;34m)\u001b[0m\u001b[0;34m\u001b[0m\u001b[0;34m\u001b[0m\u001b[0m\n",
      "\u001b[0;31mNameError\u001b[0m: name 'client' is not defined"
     ]
    }
   ],
   "source": [
    "with client.read(file_name, encoding = 'utf-8') as reader:\n",
    "  df =  pd.read_csv(reader)"
   ]
  },
  {
   "cell_type": "code",
   "execution_count": 102,
   "metadata": {
    "scrolled": true
   },
   "outputs": [
    {
     "data": {
      "text/html": [
       "<div>\n",
       "<style scoped>\n",
       "    .dataframe tbody tr th:only-of-type {\n",
       "        vertical-align: middle;\n",
       "    }\n",
       "\n",
       "    .dataframe tbody tr th {\n",
       "        vertical-align: top;\n",
       "    }\n",
       "\n",
       "    .dataframe thead th {\n",
       "        text-align: right;\n",
       "    }\n",
       "</style>\n",
       "<table border=\"1\" class=\"dataframe\">\n",
       "  <thead>\n",
       "    <tr style=\"text-align: right;\">\n",
       "      <th></th>\n",
       "      <th>Job_post_date</th>\n",
       "      <th>company_name</th>\n",
       "      <th>job_title</th>\n",
       "      <th>Number_applicants</th>\n",
       "      <th>Location</th>\n",
       "      <th>working_Place</th>\n",
       "      <th>job_links</th>\n",
       "    </tr>\n",
       "  </thead>\n",
       "  <tbody>\n",
       "    <tr>\n",
       "      <th>0</th>\n",
       "      <td>3 days ago</td>\n",
       "      <td>TalanConsulting</td>\n",
       "      <td>Consultant stagiaire - IA, Data &amp; Digital Tran...</td>\n",
       "      <td>none</td>\n",
       "      <td>Paris, Île-de-France, France</td>\n",
       "      <td>Hybrid</td>\n",
       "      <td>https://www.linkedin.com/jobs/view/2930354074/...</td>\n",
       "    </tr>\n",
       "    <tr>\n",
       "      <th>1</th>\n",
       "      <td>3 days ago</td>\n",
       "      <td>Talan</td>\n",
       "      <td>Stage consultant ERP Oracle - H/F</td>\n",
       "      <td>13 applicants</td>\n",
       "      <td>Paris, Île-de-France, France</td>\n",
       "      <td>none</td>\n",
       "      <td>https://www.linkedin.com/jobs/view/3027408357/...</td>\n",
       "    </tr>\n",
       "    <tr>\n",
       "      <th>2</th>\n",
       "      <td>1 day ago</td>\n",
       "      <td>Talan</td>\n",
       "      <td>Développeur Fullstack Java Data - H/F</td>\n",
       "      <td>6 applicants</td>\n",
       "      <td>Paris, Île-de-France, France</td>\n",
       "      <td>On-site</td>\n",
       "      <td>https://www.linkedin.com/jobs/view/3030347760/...</td>\n",
       "    </tr>\n",
       "    <tr>\n",
       "      <th>3</th>\n",
       "      <td>3 weeks ago</td>\n",
       "      <td>Talan</td>\n",
       "      <td>Consultant(e) Data Analytics - H/F</td>\n",
       "      <td>6 applicants</td>\n",
       "      <td>Lyon, Auvergne-Rhône-Alpes, France</td>\n",
       "      <td>none</td>\n",
       "      <td>https://www.linkedin.com/jobs/view/2982585736/...</td>\n",
       "    </tr>\n",
       "    <tr>\n",
       "      <th>4</th>\n",
       "      <td>4 days ago</td>\n",
       "      <td>none</td>\n",
       "      <td>Stage Big Data &amp; Fullstack</td>\n",
       "      <td>7 applicants</td>\n",
       "      <td>Paris, Île-de-France, France</td>\n",
       "      <td>On-site</td>\n",
       "      <td>https://www.linkedin.com/jobs/view/3024269804/...</td>\n",
       "    </tr>\n",
       "    <tr>\n",
       "      <th>...</th>\n",
       "      <td>...</td>\n",
       "      <td>...</td>\n",
       "      <td>...</td>\n",
       "      <td>...</td>\n",
       "      <td>...</td>\n",
       "      <td>...</td>\n",
       "      <td>...</td>\n",
       "    </tr>\n",
       "    <tr>\n",
       "      <th>103</th>\n",
       "      <td>1 month ago</td>\n",
       "      <td>Talan</td>\n",
       "      <td>Tech Lead Java/JEE F/H</td>\n",
       "      <td>0 applicants</td>\n",
       "      <td>Paris, Île-de-France, France</td>\n",
       "      <td>On-site</td>\n",
       "      <td>https://www.linkedin.com/jobs/view/2954232536/...</td>\n",
       "    </tr>\n",
       "    <tr>\n",
       "      <th>104</th>\n",
       "      <td>3 weeks ago</td>\n",
       "      <td>Talan</td>\n",
       "      <td>Consultant Senior Talend - H/F</td>\n",
       "      <td>3 applicants</td>\n",
       "      <td>Nantes, Pays de la Loire, France</td>\n",
       "      <td>On-site</td>\n",
       "      <td>https://www.linkedin.com/jobs/view/2982616387/...</td>\n",
       "    </tr>\n",
       "    <tr>\n",
       "      <th>105</th>\n",
       "      <td>2 weeks ago</td>\n",
       "      <td>Talan</td>\n",
       "      <td>Scrum Master - H/F</td>\n",
       "      <td>0 applicants</td>\n",
       "      <td>Paris, Île-de-France, France</td>\n",
       "      <td>On-site</td>\n",
       "      <td>https://www.linkedin.com/jobs/view/2998010328/...</td>\n",
       "    </tr>\n",
       "    <tr>\n",
       "      <th>106</th>\n",
       "      <td>3 days ago</td>\n",
       "      <td>Talan</td>\n",
       "      <td>Consultant(e) en Transformation RH - Conseil /...</td>\n",
       "      <td>11 applicants</td>\n",
       "      <td>Paris, Île-de-France, France</td>\n",
       "      <td>On-site</td>\n",
       "      <td>https://www.linkedin.com/jobs/view/3026011461/...</td>\n",
       "    </tr>\n",
       "    <tr>\n",
       "      <th>107</th>\n",
       "      <td>1 week ago</td>\n",
       "      <td>none</td>\n",
       "      <td>CONSEIL - ORGANISATION - BANQUE &amp; ASSET MANAGE...</td>\n",
       "      <td>3 applicants</td>\n",
       "      <td>Paris, Île-de-France, France</td>\n",
       "      <td>On-site</td>\n",
       "      <td>https://www.linkedin.com/jobs/view/3006697866/...</td>\n",
       "    </tr>\n",
       "  </tbody>\n",
       "</table>\n",
       "<p>108 rows × 7 columns</p>\n",
       "</div>"
      ],
      "text/plain": [
       "    Job_post_date     company_name  \\\n",
       "0      3 days ago  TalanConsulting   \n",
       "1      3 days ago            Talan   \n",
       "2       1 day ago            Talan   \n",
       "3     3 weeks ago            Talan   \n",
       "4      4 days ago             none   \n",
       "..            ...              ...   \n",
       "103   1 month ago            Talan   \n",
       "104   3 weeks ago            Talan   \n",
       "105   2 weeks ago            Talan   \n",
       "106    3 days ago            Talan   \n",
       "107    1 week ago             none   \n",
       "\n",
       "                                             job_title Number_applicants  \\\n",
       "0    Consultant stagiaire - IA, Data & Digital Tran...              none   \n",
       "1                    Stage consultant ERP Oracle - H/F     13 applicants   \n",
       "2                Développeur Fullstack Java Data - H/F      6 applicants   \n",
       "3                   Consultant(e) Data Analytics - H/F      6 applicants   \n",
       "4                           Stage Big Data & Fullstack      7 applicants   \n",
       "..                                                 ...               ...   \n",
       "103                             Tech Lead Java/JEE F/H      0 applicants   \n",
       "104                     Consultant Senior Talend - H/F      3 applicants   \n",
       "105                                 Scrum Master - H/F      0 applicants   \n",
       "106  Consultant(e) en Transformation RH - Conseil /...     11 applicants   \n",
       "107  CONSEIL - ORGANISATION - BANQUE & ASSET MANAGE...      3 applicants   \n",
       "\n",
       "                               Location working_Place  \\\n",
       "0          Paris, Île-de-France, France        Hybrid   \n",
       "1          Paris, Île-de-France, France          none   \n",
       "2          Paris, Île-de-France, France       On-site   \n",
       "3    Lyon, Auvergne-Rhône-Alpes, France          none   \n",
       "4          Paris, Île-de-France, France       On-site   \n",
       "..                                  ...           ...   \n",
       "103        Paris, Île-de-France, France       On-site   \n",
       "104    Nantes, Pays de la Loire, France       On-site   \n",
       "105        Paris, Île-de-France, France       On-site   \n",
       "106        Paris, Île-de-France, France       On-site   \n",
       "107        Paris, Île-de-France, France       On-site   \n",
       "\n",
       "                                             job_links  \n",
       "0    https://www.linkedin.com/jobs/view/2930354074/...  \n",
       "1    https://www.linkedin.com/jobs/view/3027408357/...  \n",
       "2    https://www.linkedin.com/jobs/view/3030347760/...  \n",
       "3    https://www.linkedin.com/jobs/view/2982585736/...  \n",
       "4    https://www.linkedin.com/jobs/view/3024269804/...  \n",
       "..                                                 ...  \n",
       "103  https://www.linkedin.com/jobs/view/2954232536/...  \n",
       "104  https://www.linkedin.com/jobs/view/2982616387/...  \n",
       "105  https://www.linkedin.com/jobs/view/2998010328/...  \n",
       "106  https://www.linkedin.com/jobs/view/3026011461/...  \n",
       "107  https://www.linkedin.com/jobs/view/3006697866/...  \n",
       "\n",
       "[108 rows x 7 columns]"
      ]
     },
     "execution_count": 102,
     "metadata": {},
     "output_type": "execute_result"
    }
   ],
   "source": [
    "df"
   ]
  },
  {
   "cell_type": "markdown",
   "metadata": {},
   "source": [
    "### write json file type into hdfs "
   ]
  },
  {
   "cell_type": "code",
   "execution_count": 49,
   "metadata": {
    "scrolled": true
   },
   "outputs": [],
   "source": [
    "# with client.write('model.json', encoding='utf-8') as writer:\n",
    "#   from json import dump\n",
    "#   dump(jobsjson, writer)"
   ]
  },
  {
   "cell_type": "code",
   "execution_count": 65,
   "metadata": {
    "scrolled": true
   },
   "outputs": [
    {
     "data": {
      "text/plain": [
       "['model.json', 'modelDf']"
      ]
     },
     "execution_count": 65,
     "metadata": {},
     "output_type": "execute_result"
    }
   ],
   "source": [
    "# fnames = client.list('../chiheb')\n",
    "# fnames"
   ]
  },
  {
   "cell_type": "code",
   "execution_count": 67,
   "metadata": {
    "scrolled": true
   },
   "outputs": [
    {
     "data": {
      "text/plain": [
       "{'accessTime': 1650202022263,\n",
       " 'blockSize': 134217728,\n",
       " 'childrenNum': 0,\n",
       " 'fileId': 16397,\n",
       " 'group': 'supergroup',\n",
       " 'length': 48629,\n",
       " 'modificationTime': 1650202022352,\n",
       " 'owner': 'chiheb',\n",
       " 'pathSuffix': '',\n",
       " 'permission': '644',\n",
       " 'replication': 1,\n",
       " 'storagePolicy': 0,\n",
       " 'type': 'FILE'}"
      ]
     },
     "execution_count": 67,
     "metadata": {},
     "output_type": "execute_result"
    }
   ],
   "source": [
    "# status = client.status('../chiheb/model.json')\n",
    "# status"
   ]
  },
  {
   "cell_type": "code",
   "execution_count": 3,
   "metadata": {
    "scrolled": true
   },
   "outputs": [],
   "source": [
    "import pandas as pd\n",
    "df = pd.read_csv('accentureLinkedinJobs.csv')\n"
   ]
  },
  {
   "cell_type": "code",
   "execution_count": 5,
   "metadata": {},
   "outputs": [],
   "source": [
    "from hdfs import InsecureClient\n",
    "company='accenture'\n",
    "file_name= company+'_linkedin_jobs_df'\n",
    "hdfs_url = \"http://localhost:9870/\"\n",
    "hdfs_user = \"chiheb\"\n",
    "c = InsecureClient(hdfs_url, user=hdfs_user)\n",
    "c.makedirs(\"/user/chiheb/accenture\") \n",
    "with c.write('accenture/'+file_name, encoding = 'utf-8') as writer:\n",
    "    df.to_csv(writer,index=False)"
   ]
  },
  {
   "cell_type": "code",
   "execution_count": null,
   "metadata": {},
   "outputs": [],
   "source": []
  }
 ],
 "metadata": {
  "kernelspec": {
   "display_name": "Python 3 (ipykernel)",
   "language": "python",
   "name": "python3"
  },
  "language_info": {
   "codemirror_mode": {
    "name": "ipython",
    "version": 3
   },
   "file_extension": ".py",
   "mimetype": "text/x-python",
   "name": "python",
   "nbconvert_exporter": "python",
   "pygments_lexer": "ipython3",
   "version": "3.7.13"
  }
 },
 "nbformat": 4,
 "nbformat_minor": 5
}
