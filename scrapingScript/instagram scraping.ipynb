{
 "cells": [
  {
   "cell_type": "code",
   "execution_count": 22,
   "metadata": {
    "scrolled": true
   },
   "outputs": [
    {
     "name": "stderr",
     "output_type": "stream",
     "text": [
      "\n",
      "\n",
      "====== WebDriver manager ======\n",
      "Current google-chrome version is 101.0.4951\n",
      "Get LATEST chromedriver version for 101.0.4951 google-chrome\n",
      "Driver [/home/chiheb/.wdm/drivers/chromedriver/linux64/101.0.4951.41/chromedriver] found in cache\n"
     ]
    }
   ],
   "source": [
    "from selenium import webdriver\n",
    "from selenium.webdriver.common.keys import Keys\n",
    "from selenium.webdriver.support import expected_conditions as EC\n",
    "from selenium.webdriver.common.by import By\n",
    "from selenium.webdriver.support.wait import WebDriverWait\n",
    "from selenium.webdriver.chrome.service import Service\n",
    "from webdriver_manager.chrome import ChromeDriverManager\n",
    "from selenium.webdriver.common.by import By\n",
    "#Disable Alerts/Notifications\n",
    "\n",
    "\n",
    "chrome_options = webdriver.ChromeOptions()\n",
    "prefs = {\"profile.default_content_setting_values.notifications\" : 2}\n",
    "chrome_options.add_experimental_option(\"prefs\",prefs)\n",
    "driver = webdriver.Chrome(service=Service(ChromeDriverManager().install()))\n",
    "#open the webpage\n"
   ]
  },
  {
   "cell_type": "code",
   "execution_count": 23,
   "metadata": {},
   "outputs": [],
   "source": [
    "driver.get(\"https://www.instagram.com/\") \n"
   ]
  },
  {
   "cell_type": "code",
   "execution_count": 24,
   "metadata": {},
   "outputs": [],
   "source": [
    "\n",
    "\n",
    "#target username\n",
    "username = WebDriverWait(driver, 10).until(EC.element_to_be_clickable((By.CSS_SELECTOR, \"input[name='username']\")))\n",
    "password = WebDriverWait(driver, 10).until(EC.element_to_be_clickable((By.CSS_SELECTOR, \"input[name='password']\")))\n",
    "\n",
    "#enter username and password\n",
    "username.clear()\n",
    "username.send_keys(\"chiheb_jamazi\")\n",
    "password.clear()\n",
    "password.send_keys(\"Seawaymn2011&&\")\n",
    "\n",
    "#target the login button and click it\n",
    "button = WebDriverWait(driver, 2).until(EC.element_to_be_clickable((By.CSS_SELECTOR, \"button[type='submit']\"))).click()\n",
    "\n",
    "#We are logged in!"
   ]
  },
  {
   "cell_type": "code",
   "execution_count": 26,
   "metadata": {},
   "outputs": [],
   "source": [
    "not_now = WebDriverWait(driver, 10).until(EC.element_to_be_clickable((By.XPATH, '//button[contains(text(), \"Not Now\")]'))).click()\n",
    "# not_now2 = WebDriverWait(driver, 10).until(EC.element_to_be_clickable((By.XPATH, '//button[contains(text(), \"Not Now\")]'))).click()"
   ]
  },
  {
   "cell_type": "code",
   "execution_count": 27,
   "metadata": {},
   "outputs": [],
   "source": [
    "import time\n",
    "\n",
    "#target the search input field\n",
    "searchbox = WebDriverWait(driver, 10).until(EC.element_to_be_clickable((By.XPATH, \"//input[@placeholder='Search']\")))\n",
    "searchbox.clear()\n",
    "\n",
    "#search for the hashtag cat\n",
    "keyword = \"accenture\"\n",
    "searchbox.send_keys(keyword)\n",
    " \n",
    "# Wait for 5 seconds\n",
    "time.sleep(5)\n",
    "searchbox.send_keys(Keys.ENTER)\n",
    "time.sleep(5)\n",
    "searchbox.send_keys(Keys.ENTER)\n",
    "time.sleep(5)"
   ]
  },
  {
   "cell_type": "code",
   "execution_count": 28,
   "metadata": {
    "scrolled": true
   },
   "outputs": [
    {
     "name": "stderr",
     "output_type": "stream",
     "text": [
      "/home/chiheb/anaconda3/envs/scraping/lib/python3.7/site-packages/ipykernel_launcher.py:5: DeprecationWarning: find_elements_by_* commands are deprecated. Please use find_elements() instead\n",
      "  \"\"\"\n"
     ]
    },
    {
     "name": "stdout",
     "output_type": "stream",
     "text": [
      "Number of scraped images:  33\n"
     ]
    }
   ],
   "source": [
    "#scroll down to scrape more images\n",
    "driver.execute_script(\"window.scrollTo(0, 8000);\")\n",
    "\n",
    "#target all images on the page\n",
    "images = driver.find_elements_by_tag_name('img')\n",
    "images = [image.get_attribute('src') for image in images]\n",
    "images = images[:-2]\n",
    "\n",
    "print('Number of scraped images: ', len(images))"
   ]
  },
  {
   "cell_type": "code",
   "execution_count": 29,
   "metadata": {},
   "outputs": [
    {
     "data": {
      "text/plain": [
       "['https://instagram.ftun7-1.fna.fbcdn.net/v/t51.2885-19/281434568_1081958302670384_1161478123088271518_n.jpg?stp=dst-jpg_s150x150&_nc_ht=instagram.ftun7-1.fna.fbcdn.net&_nc_cat=1&_nc_ohc=p7T_RRa3Pj8AX8EVfL5&edm=ALbqBD0BAAAA&ccb=7-5&oh=00_AT8XjmXSki4cEUV0hXajmcX3q8pLbpiMZab8VibX_G1Nbg&oe=6294D4EC&_nc_sid=9a90d6',\n",
       " 'https://instagram.ftun7-1.fna.fbcdn.net/v/t51.2885-15/147555816_1406790936323174_7938869795348428524_n.jpg?stp=dst-jpg_s150x150&_nc_ht=instagram.ftun7-1.fna.fbcdn.net&_nc_cat=102&_nc_ohc=c0wrTDZ5EwgAX8q03ES&tn=yne-lCvab3Dv3NSI&edm=ALbqBD0BAAAA&ccb=7-5&oh=00_AT9CbJFnmWILUbRt1sbjts3eJDJZccsueWhng53vGBvrOw&oe=62942953&_nc_sid=9a90d6',\n",
       " 'https://instagram.ftun7-1.fna.fbcdn.net/v/t51.2885-15/146624686_455239702315789_7498335666643382617_n.jpg?stp=dst-jpg_s150x150&_nc_ht=instagram.ftun7-1.fna.fbcdn.net&_nc_cat=101&_nc_ohc=PTBs4okFZVcAX8rlxJ4&edm=ALbqBD0BAAAA&ccb=7-5&oh=00_AT_GHyTaHjw5SE5AYc3kjI1B1UZVFogxtMLSeMuolmUyEQ&oe=62939F7A&_nc_sid=9a90d6',\n",
       " 'https://instagram.ftun7-1.fna.fbcdn.net/v/t51.2885-15/278723089_328319489398279_8658606377721166438_n.jpg?stp=dst-jpg_s150x150&_nc_ht=instagram.ftun7-1.fna.fbcdn.net&_nc_cat=107&_nc_ohc=kxWtz1gvgy8AX-DCumI&edm=ALbqBD0BAAAA&ccb=7-5&oh=00_AT8BhMVzvbflOE_GjjI6iMsdIoRSzEkdLrl1ZzsIzPZcTA&oe=6294A64D&_nc_sid=9a90d6',\n",
       " 'https://instagram.ftun7-1.fna.fbcdn.net/v/t51.2885-15/278252631_1164410837647205_4093169985174648985_n.jpg?stp=dst-jpg_s150x150&_nc_ht=instagram.ftun7-1.fna.fbcdn.net&_nc_cat=105&_nc_ohc=LTVXXP8gl-EAX94eX0m&edm=ALbqBD0BAAAA&ccb=7-5&oh=00_AT9yqysTzMShUk5FbHMlvgkeJ7UYO_EO19ggkBu2RcNAZA&oe=62953071&_nc_sid=9a90d6',\n",
       " 'https://instagram.ftun7-1.fna.fbcdn.net/v/t51.2885-15/278722910_1300847577090409_707518576737362233_n.jpg?stp=dst-jpg_s150x150&_nc_ht=instagram.ftun7-1.fna.fbcdn.net&_nc_cat=101&_nc_ohc=6gp6DXmitgsAX91jZv7&edm=ALbqBD0BAAAA&ccb=7-5&oh=00_AT_3Dchlnw6t6LcFwkN5LuafG5upu9dMyOgnWlhQ_ckAyg&oe=6294CCC0&_nc_sid=9a90d6',\n",
       " 'https://instagram.ftun7-1.fna.fbcdn.net/v/t51.2885-15/245257282_264927075537535_7328973580678247859_n.jpg?stp=dst-jpg_s150x150&_nc_ht=instagram.ftun7-1.fna.fbcdn.net&_nc_cat=107&_nc_ohc=VOk1BEdfD3gAX9zD3Kc&edm=ALbqBD0BAAAA&ccb=7-5&oh=00_AT9bBxMqTpM5qpB0I7h9FgqxocNjcOC7ECFKoRH9j0MaIw&oe=6293BC7A&_nc_sid=9a90d6',\n",
       " 'https://instagram.ftun7-1.fna.fbcdn.net/v/t51.2885-15/146684172_463545328149311_4446237985979271111_n.jpg?stp=dst-jpg_s150x150&_nc_ht=instagram.ftun7-1.fna.fbcdn.net&_nc_cat=111&_nc_ohc=QNQEQ9q0T08AX-39DgX&tn=yne-lCvab3Dv3NSI&edm=ALbqBD0BAAAA&ccb=7-5&oh=00_AT-8I_EET-hDnbCIlBG9Ob33YW2XwhiZG8lgnZZ2-qxD2g&oe=6293EDCF&_nc_sid=9a90d6',\n",
       " 'https://instagram.ftun7-1.fna.fbcdn.net/v/t51.2885-15/147615637_933748620496807_4098488098079797518_n.jpg?stp=dst-jpg_s150x150&_nc_ht=instagram.ftun7-1.fna.fbcdn.net&_nc_cat=107&_nc_ohc=KXoOOJEtkNoAX8z8HoC&edm=ALbqBD0BAAAA&ccb=7-5&oh=00_AT_yNCdK0Sn01PfnSbi5EiQmCeSTQzFJeIPaHQrFE41PTg&oe=6294EDF9&_nc_sid=9a90d6',\n",
       " 'https://instagram.ftun7-1.fna.fbcdn.net/v/t51.2885-15/283484124_1203465030400682_8553531969453679398_n.jpg?stp=c0.322.828.828a_dst-jpg_e15_s640x640&_nc_ht=instagram.ftun7-1.fna.fbcdn.net&_nc_cat=102&_nc_ohc=vB896M7p768AX_rFcuM&tn=yne-lCvab3Dv3NSI&edm=ABfd0MgBAAAA&ccb=7-5&oh=00_AT-7L0u2k4RAQIVoPVGsV76sXpFHdedYg5i3ZBggbaDGiA&oe=628F836C&_nc_sid=7bff83',\n",
       " 'https://instagram.ftun7-1.fna.fbcdn.net/v/t51.2885-15/283141655_977609729623704_5433620695210840867_n.jpg?stp=c0.321.827.827a_dst-jpg_e15_s640x640&_nc_ht=instagram.ftun7-1.fna.fbcdn.net&_nc_cat=100&_nc_ohc=G-h_v0U68aEAX83Yztm&edm=ABfd0MgBAAAA&ccb=7-5&oh=00_AT9Zjwh2uMPc0tjpwEwquvB8id3Et9uNqe-aZn4iRqAQKQ&oe=628F8CB1&_nc_sid=7bff83',\n",
       " 'https://instagram.ftun7-1.fna.fbcdn.net/v/t51.2885-15/281551560_446254203857616_5418172198217175337_n.jpg?stp=dst-jpg_e35_s640x640_sh0.08&_nc_ht=instagram.ftun7-1.fna.fbcdn.net&_nc_cat=100&_nc_ohc=RW2dvzox0ogAX-uRVTW&tn=yne-lCvab3Dv3NSI&edm=ABfd0MgBAAAA&ccb=7-5&oh=00_AT8ICrZBcCMJwYpVdsyvgZWsp0vJ9W4KY_p4unwK2zWAEw&oe=628FC084&_nc_sid=7bff83',\n",
       " 'https://instagram.ftun7-1.fna.fbcdn.net/v/t51.2885-15/281862770_102712902433559_1709944643814511226_n.jpg?stp=dst-jpg_e35&_nc_ht=instagram.ftun7-1.fna.fbcdn.net&_nc_cat=111&_nc_ohc=ea7ER8kmBWMAX-0rTzG&edm=ABfd0MgBAAAA&ccb=7-5&oh=00_AT8sH4tWxmpC8XKm7mlgKyQBz-T3PlfxBWEwnQkwpCQCRA&oe=6293C650&_nc_sid=7bff83',\n",
       " 'https://instagram.ftun7-1.fna.fbcdn.net/v/t51.2885-15/281145984_709153916802894_6398998325652149235_n.jpg?stp=dst-jpg_e35_s640x640_sh0.08&_nc_ht=instagram.ftun7-1.fna.fbcdn.net&_nc_cat=106&_nc_ohc=b4FF1MCTDpEAX8A4Zys&edm=ABfd0MgBAAAA&ccb=7-5&oh=00_AT9cnlVIPq_bTvDXqZ25NPEGzg7ye7tZskrniJ_AGTfBEA&oe=629352CA&_nc_sid=7bff83',\n",
       " 'https://instagram.ftun7-1.fna.fbcdn.net/v/t51.2885-15/280672419_878198346908447_5048622886048652075_n.jpg?stp=dst-jpg_e35_s640x640_sh0.08&_nc_ht=instagram.ftun7-1.fna.fbcdn.net&_nc_cat=111&_nc_ohc=FFBwBbB9gvAAX_6xuh_&tn=yne-lCvab3Dv3NSI&edm=ABfd0MgBAAAA&ccb=7-5&oh=00_AT_DawmZ8yi94VflxaYoUechXme6L9AhzcHSNTOeVlARyw&oe=628F7214&_nc_sid=7bff83',\n",
       " 'https://instagram.ftun7-1.fna.fbcdn.net/v/t51.2885-15/280295117_149117300977853_4777676130327425544_n.jpg?stp=dst-jpg_e35_s640x640_sh0.08&_nc_ht=instagram.ftun7-1.fna.fbcdn.net&_nc_cat=105&_nc_ohc=gX2nGkf_v9cAX8lDOwf&edm=ABfd0MgBAAAA&ccb=7-5&oh=00_AT_NlP0-EfoBvNnYBBlL5rrSiBEgUnZzN2TOHpC_LsvTYg&oe=628FA21F&_nc_sid=7bff83',\n",
       " 'https://instagram.ftun7-1.fna.fbcdn.net/v/t51.2885-15/280242736_2882935881998741_2716086671660099805_n.jpg?stp=c0.187.480.480a_dst-jpg_e15&_nc_ht=instagram.ftun7-1.fna.fbcdn.net&_nc_cat=105&_nc_ohc=ZdA407LzW1QAX_WJsuW&edm=ABfd0MgBAAAA&ccb=7-5&oh=00_AT_2L1WJRikRbbTZ1-NCu4tbmmfR4i5vd0bsJIXNB5q8SQ&oe=628FC234&_nc_sid=7bff83',\n",
       " 'https://instagram.ftun7-1.fna.fbcdn.net/v/t51.2885-15/279901119_1171110137023465_6019036466621445630_n.jpg?stp=dst-jpg_e35&_nc_ht=instagram.ftun7-1.fna.fbcdn.net&_nc_cat=101&_nc_ohc=d2fnCI7unFcAX_ctXJB&tn=yne-lCvab3Dv3NSI&edm=ABfd0MgBAAAA&ccb=7-5&oh=00_AT97ylp8F5cpKidhOyeJv8TjnyYbjSj40HPkIWJ9SBZhZw&oe=6295054A&_nc_sid=7bff83',\n",
       " 'https://instagram.ftun7-1.fna.fbcdn.net/v/t51.2885-15/279813714_1636524333383682_7981467481540795797_n.jpg?stp=dst-jpg_e15_s640x640&_nc_ht=instagram.ftun7-1.fna.fbcdn.net&_nc_cat=106&_nc_ohc=Fl2E7cQzN9IAX-1LfEF&edm=ABfd0MgBAAAA&ccb=7-5&oh=00_AT8_iwUsFhGmwAkeU6LJdORWmLOqURAmv_eVHgYiksNq1A&oe=628F6E68&_nc_sid=7bff83',\n",
       " 'https://instagram.ftun7-1.fna.fbcdn.net/v/t51.2885-15/279623070_1600991556952020_2154168227887566607_n.jpg?stp=dst-jpg_e35_s640x640_sh0.08&_nc_ht=instagram.ftun7-1.fna.fbcdn.net&_nc_cat=100&_nc_ohc=PsW_NtvPGaQAX8t7TH9&edm=ABfd0MgBAAAA&ccb=7-5&oh=00_AT8zrYAXDlmb1ETP-31DL8eLKjgr3DbrdHT8VqCkff31lA&oe=629509C7&_nc_sid=7bff83',\n",
       " 'https://instagram.ftun7-1.fna.fbcdn.net/v/t51.2885-15/279775242_698340458078112_6791031800205472881_n.jpg?stp=dst-jpg_e35_s640x640_sh0.08&_nc_ht=instagram.ftun7-1.fna.fbcdn.net&_nc_cat=100&_nc_ohc=vykcN7GwKiwAX9G77jl&tn=yne-lCvab3Dv3NSI&edm=ABfd0MgBAAAA&ccb=7-5&oh=00_AT9LnhNxEqaAEvXKX240oaKO2rKayOdlzogLomNfEx0VOA&oe=628F8F51&_nc_sid=7bff83',\n",
       " 'https://instagram.ftun7-1.fna.fbcdn.net/v/t51.2885-15/279606666_394557699200083_7053233754474891933_n.jpg?stp=c0.0.1439.1439a_dst-jpg_e35_s640x640_sh0.08&_nc_ht=instagram.ftun7-1.fna.fbcdn.net&_nc_cat=107&_nc_ohc=Utd5U6nD7RoAX_b_fcI&edm=APU89FABAAAA&ccb=7-5&oh=00_AT_zFa65OhRL0EiIgT5ZNYbqRfkIAXjI9wNTQwyexH--sQ&oe=6293C23D&_nc_sid=86f79a',\n",
       " 'https://instagram.ftun7-1.fna.fbcdn.net/v/t51.2885-15/279498169_384636706897352_4499660313667834438_n.jpg?stp=c0.280.720.720a_dst-jpg_e15_s640x640&_nc_ht=instagram.ftun7-1.fna.fbcdn.net&_nc_cat=108&_nc_ohc=VhAa3y2RW8MAX9zT1l3&tn=yne-lCvab3Dv3NSI&edm=APU89FABAAAA&ccb=7-5&oh=00_AT9g54csrMSE_YYp7Z2W6pOFSZsytQ_450aXOKPvn-n8tw&oe=628FF35E&_nc_sid=86f79a',\n",
       " 'https://instagram.ftun7-1.fna.fbcdn.net/v/t51.2885-15/279210400_1131682487396324_1902627141831156466_n.jpg?stp=c0.1.717.717a_dst-jpg_e35_s640x640_sh0.08&_nc_ht=instagram.ftun7-1.fna.fbcdn.net&_nc_cat=108&_nc_ohc=YUojFS1RbTEAX8I-WD5&edm=APU89FABAAAA&ccb=7-5&oh=00_AT9bxHypWlDLbTXR9vf4k3AjInMIJzo12iyfaO4M2TpIyw&oe=62935188&_nc_sid=86f79a',\n",
       " 'https://instagram.ftun7-1.fna.fbcdn.net/v/t51.2885-15/279064073_1097062200839448_8232311751147670989_n.jpg?stp=c0.882.2268.2268a_dst-jpg_e35_s640x640_sh0.08&_nc_ht=instagram.ftun7-1.fna.fbcdn.net&_nc_cat=100&_nc_ohc=blsatzm9jccAX9GD1eS&edm=APU89FABAAAA&ccb=7-5&oh=00_AT9rOT3auZsdyX8hd8uWCYxgycV2t-s4lDO2h9xvmXRRuQ&oe=628FC0BB&_nc_sid=86f79a',\n",
       " 'https://instagram.ftun7-1.fna.fbcdn.net/v/t51.2885-15/278503006_114618201214862_8201783212941319562_n.jpg?stp=c0.420.1080.1080a_dst-jpg_e35_s640x640_sh0.08&_nc_ht=instagram.ftun7-1.fna.fbcdn.net&_nc_cat=102&_nc_ohc=1nQqtTLBVD0AX9o4jwS&edm=APU89FABAAAA&ccb=7-5&oh=00_AT9VQUO8MjVlf0A8MGl9yhugg68vrvsvEMHjhuKceUfrdg&oe=628FB762&_nc_sid=86f79a',\n",
       " 'https://instagram.ftun7-1.fna.fbcdn.net/v/t51.2885-15/278200211_138018552112979_229363077203042594_n.jpg?stp=c0.280.720.720a_dst-jpg_e15_s640x640&_nc_ht=instagram.ftun7-1.fna.fbcdn.net&_nc_cat=111&_nc_ohc=weTAN1DcBD0AX80k3-H&edm=APU89FABAAAA&ccb=7-5&oh=00_AT8GKWYG_aYycxEGkpwT4CLCGOQ8tGwhfUEpg_WdWDD-dA&oe=628FD277&_nc_sid=86f79a',\n",
       " 'https://instagram.ftun7-1.fna.fbcdn.net/v/t51.2885-15/278084937_1831795787154630_324354542410595003_n.jpg?stp=c0.2.1440.1440a_dst-jpg_e35_s640x640_sh0.08&_nc_ht=instagram.ftun7-1.fna.fbcdn.net&_nc_cat=106&_nc_ohc=WHnwUABXTOAAX9TQClC&edm=APU89FABAAAA&ccb=7-5&oh=00_AT9HV5OKA0WJ3763ABbWb9U-zZvfdgLeZ0LzElJSmI8Q3A&oe=6294B7D3&_nc_sid=86f79a',\n",
       " 'https://instagram.ftun7-1.fna.fbcdn.net/v/t51.2885-15/275970060_448806487024571_5989685143086071855_n.jpg?stp=dst-jpg_e35&_nc_ht=instagram.ftun7-1.fna.fbcdn.net&_nc_cat=111&_nc_ohc=HhmE2n6aka4AX-dy-FV&edm=APU89FABAAAA&ccb=7-5&oh=00_AT_f-MYE07nPlshe8yjhuYOHHFZM4c2kupKB4SROvizqaA&oe=6295378F&_nc_sid=86f79a',\n",
       " 'https://instagram.ftun7-1.fna.fbcdn.net/v/t51.2885-15/275902160_1014672476141858_642757985629801419_n.jpg?stp=dst-jpg_e35_s640x640_sh0.08&_nc_ht=instagram.ftun7-1.fna.fbcdn.net&_nc_cat=102&_nc_ohc=f3wldthycBMAX_8i7Ag&edm=APU89FABAAAA&ccb=7-5&oh=00_AT-s6_B5fPaLw86dhfsNs0BTOrjxwvqf31lE0noevisEBQ&oe=62949A33&_nc_sid=86f79a',\n",
       " 'https://instagram.ftun7-1.fna.fbcdn.net/v/t51.2885-15/275518516_921723715185114_1904702700183691783_n.jpg?stp=dst-jpg_e35_s640x640_sh0.08&_nc_ht=instagram.ftun7-1.fna.fbcdn.net&_nc_cat=106&_nc_ohc=p5sUFZNyBa8AX9OH95A&edm=APU89FABAAAA&ccb=7-5&oh=00_AT_h0RX3GhqOlZor7hTdalT1KAoMjmkNCM42_nDt5HauWA&oe=6293AA01&_nc_sid=86f79a',\n",
       " 'https://instagram.ftun7-1.fna.fbcdn.net/v/t51.2885-15/275042293_515881923237752_736264808852481329_n.jpg?stp=c0.1247.3212.3212a_dst-jpg_e35_s640x640_sh0.08&_nc_ht=instagram.ftun7-1.fna.fbcdn.net&_nc_cat=108&_nc_ohc=YpfuOp5hx2AAX9pf8E1&edm=APU89FABAAAA&ccb=7-5&oh=00_AT_iIPPcRrWToADhbatEvkiBoX__vvSNzEBb8z62dRwDDw&oe=628F9529&_nc_sid=86f79a',\n",
       " 'https://instagram.ftun7-1.fna.fbcdn.net/v/t51.2885-15/274614236_709187673431317_3405788520442187791_n.jpg?stp=dst-jpg_e35_s640x640_sh0.08&_nc_ht=instagram.ftun7-1.fna.fbcdn.net&_nc_cat=101&_nc_ohc=HNePaEadZ8wAX-UF3oE&edm=APU89FABAAAA&ccb=7-5&oh=00_AT8menTUso_lTT3M47aweuX-d8ky6FOIuVtm6Hu4jONY5A&oe=628FCD55&_nc_sid=86f79a']"
      ]
     },
     "execution_count": 29,
     "metadata": {},
     "output_type": "execute_result"
    }
   ],
   "source": [
    "images"
   ]
  },
  {
   "cell_type": "code",
   "execution_count": 36,
   "metadata": {},
   "outputs": [
    {
     "data": {
      "text/plain": [
       "'/home/chiheb/TalanProject/scrapingScripts/accentures'"
      ]
     },
     "execution_count": 36,
     "metadata": {},
     "output_type": "execute_result"
    }
   ],
   "source": [
    "import os\n",
    "import wget\n",
    "\n",
    "path = os.getcwd()\n",
    "path = os.path.join(path, keyword[0:] + \"s\")\n",
    "\n",
    "#create the directory\n",
    "os.mkdir(path)\n",
    "\n",
    "path"
   ]
  },
  {
   "cell_type": "code",
   "execution_count": 37,
   "metadata": {},
   "outputs": [],
   "source": [
    "counter = 0\n",
    "for image in images:\n",
    "    save_as = os.path.join(path, keyword[1:] + str(counter) + '.jpg')\n",
    "    wget.download(image, save_as)\n",
    "    counter += 1"
   ]
  },
  {
   "cell_type": "code",
   "execution_count": 38,
   "metadata": {},
   "outputs": [],
   "source": [
    "from PIL import Image"
   ]
  },
  {
   "cell_type": "code",
   "execution_count": 40,
   "metadata": {},
   "outputs": [],
   "source": [
    "import pytesseract as pt\n"
   ]
  },
  {
   "cell_type": "code",
   "execution_count": 44,
   "metadata": {},
   "outputs": [],
   "source": [
    "from PIL import Image\n",
    "import pytesseract as pt\n",
    "import os\n",
    "      \n",
    "\n",
    "# path for the folder for getting the raw images\n",
    "path =\"/home/chiheb/TalanProject/scrapingScripts/accentures\"\n",
    "\n",
    "# link to the file in which output needs to be kept\n",
    "fullTempPath =\"/home/chiheb/TalanProject/scrapingScripts/accentures/outputFile.txt\"\n",
    "\n"
   ]
  },
  {
   "cell_type": "code",
   "execution_count": 49,
   "metadata": {
    "collapsed": true
   },
   "outputs": [
    {
     "ename": "UnidentifiedImageError",
     "evalue": "cannot identify image file '/home/chiheb/TalanProject/scrapingScripts/accentures/outputFile.txt'",
     "output_type": "error",
     "traceback": [
      "\u001b[0;31m---------------------------------------------------------------------------\u001b[0m",
      "\u001b[0;31mUnidentifiedImageError\u001b[0m                    Traceback (most recent call last)",
      "\u001b[0;32m<ipython-input-49-041769ef0dc5>\u001b[0m in \u001b[0;36m<module>\u001b[0;34m\u001b[0m\n\u001b[1;32m      2\u001b[0m \u001b[0;32mfor\u001b[0m \u001b[0mimageName\u001b[0m \u001b[0;32min\u001b[0m \u001b[0mos\u001b[0m\u001b[0;34m.\u001b[0m\u001b[0mlistdir\u001b[0m\u001b[0;34m(\u001b[0m\u001b[0mpath\u001b[0m\u001b[0;34m)\u001b[0m\u001b[0;34m:\u001b[0m\u001b[0;34m\u001b[0m\u001b[0;34m\u001b[0m\u001b[0m\n\u001b[1;32m      3\u001b[0m     \u001b[0minputPath\u001b[0m \u001b[0;34m=\u001b[0m \u001b[0mos\u001b[0m\u001b[0;34m.\u001b[0m\u001b[0mpath\u001b[0m\u001b[0;34m.\u001b[0m\u001b[0mjoin\u001b[0m\u001b[0;34m(\u001b[0m\u001b[0mpath\u001b[0m\u001b[0;34m,\u001b[0m \u001b[0mimageName\u001b[0m\u001b[0;34m)\u001b[0m\u001b[0;34m\u001b[0m\u001b[0;34m\u001b[0m\u001b[0m\n\u001b[0;32m----> 4\u001b[0;31m     \u001b[0mimg\u001b[0m \u001b[0;34m=\u001b[0m \u001b[0mImage\u001b[0m\u001b[0;34m.\u001b[0m\u001b[0mopen\u001b[0m\u001b[0;34m(\u001b[0m\u001b[0minputPath\u001b[0m\u001b[0;34m)\u001b[0m\u001b[0;34m\u001b[0m\u001b[0;34m\u001b[0m\u001b[0m\n\u001b[0m\u001b[1;32m      5\u001b[0m \u001b[0;34m\u001b[0m\u001b[0m\n\u001b[1;32m      6\u001b[0m     \u001b[0;31m# applying ocr using pytesseract for python\u001b[0m\u001b[0;34m\u001b[0m\u001b[0;34m\u001b[0m\u001b[0;34m\u001b[0m\u001b[0m\n",
      "\u001b[0;32m~/anaconda3/envs/scraping/lib/python3.7/site-packages/PIL/Image.py\u001b[0m in \u001b[0;36mopen\u001b[0;34m(fp, mode, formats)\u001b[0m\n\u001b[1;32m   3007\u001b[0m         \u001b[0mwarnings\u001b[0m\u001b[0;34m.\u001b[0m\u001b[0mwarn\u001b[0m\u001b[0;34m(\u001b[0m\u001b[0mmessage\u001b[0m\u001b[0;34m)\u001b[0m\u001b[0;34m\u001b[0m\u001b[0;34m\u001b[0m\u001b[0m\n\u001b[1;32m   3008\u001b[0m     raise UnidentifiedImageError(\n\u001b[0;32m-> 3009\u001b[0;31m         \u001b[0;34m\"cannot identify image file %r\"\u001b[0m \u001b[0;34m%\u001b[0m \u001b[0;34m(\u001b[0m\u001b[0mfilename\u001b[0m \u001b[0;32mif\u001b[0m \u001b[0mfilename\u001b[0m \u001b[0;32melse\u001b[0m \u001b[0mfp\u001b[0m\u001b[0;34m)\u001b[0m\u001b[0;34m\u001b[0m\u001b[0;34m\u001b[0m\u001b[0m\n\u001b[0m\u001b[1;32m   3010\u001b[0m     )\n\u001b[1;32m   3011\u001b[0m \u001b[0;34m\u001b[0m\u001b[0m\n",
      "\u001b[0;31mUnidentifiedImageError\u001b[0m: cannot identify image file '/home/chiheb/TalanProject/scrapingScripts/accentures/outputFile.txt'"
     ]
    }
   ],
   "source": [
    "# iterating the images inside the folder\n",
    "for imageName in os.listdir(path):\n",
    "    inputPath = os.path.join(path, imageName)\n",
    "    img = Image.open(inputPath)\n",
    "\n",
    "    # applying ocr using pytesseract for python\n",
    "    text = pt.image_to_string(img, lang =\"eng\")\n",
    "\n",
    "    # saving the  text for appending it to the output.txt file\n",
    "    # a + parameter used for creating the file if not present\n",
    "    # and if present then append the text content\n",
    "    file1 = open(fullTempPath, \"a+\")\n",
    "\n",
    "    # providing the name of the image\n",
    "#     file1.write(imageName+\"\\n\")\n",
    "\n",
    "    # providing the content in the image\n",
    "    file1.write(text+\"\\n\")\n",
    "    file1.close() \n",
    "\n",
    "# for printing the output file\n",
    "file2 = open(fullTempPath, 'r')\n",
    "print(file2.read())\n",
    "file2.close()  "
   ]
  },
  {
   "cell_type": "code",
   "execution_count": null,
   "metadata": {},
   "outputs": [],
   "source": [
    "results = []\n",
    "file_paths = ['*Path*/rsrc (1).jpg', '*Path*/rsrc (2).jpg', etc...]\n",
    "\n",
    "def one_scan(file_path):\n",
    "    im = Image.open(file_path)\n",
    "    base = os.path.basename(file_path)\n",
    "    new_file_name = ps.path.splitext(base)[0]+'.png'\n",
    "    im.save(new_file_name, dpi=(300, 300))\n",
    "\n",
    "    image = cv2.imread(new_file_name, cv2.IMREAD_COLOR)\n",
    "    image = cv2.resize(image, None, fx=2, fy=2, interpolation=cv2.INTER_CUBIC)\n",
    "    ret, threshold = cv2.threshold(image, 127, 255, cv2.THRESH_BINARY)\n",
    "\n",
    "    return pytesseract.image_to_string(threshold)\n",
    "\n",
    "\n",
    "for file_path in file_paths:\n",
    "    result = one_scan(file_path)\n",
    "    results.append(result)\n",
    "\n",
    "with open(\"Output.txt\", \"w\", encoding=\"utf-8\") as text_file:\n",
    "    text_file.write(\"\\n\".join(map(str, results)))"
   ]
  }
 ],
 "metadata": {
  "kernelspec": {
   "display_name": "Python 3 (ipykernel)",
   "language": "python",
   "name": "python3"
  },
  "language_info": {
   "codemirror_mode": {
    "name": "ipython",
    "version": 3
   },
   "file_extension": ".py",
   "mimetype": "text/x-python",
   "name": "python",
   "nbconvert_exporter": "python",
   "pygments_lexer": "ipython3",
   "version": "3.7.13"
  }
 },
 "nbformat": 4,
 "nbformat_minor": 5
}
